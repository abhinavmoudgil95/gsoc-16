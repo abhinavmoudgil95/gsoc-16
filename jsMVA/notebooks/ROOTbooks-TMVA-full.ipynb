{
 "cells": [
  {
   "cell_type": "markdown",
   "metadata": {},
   "source": [
    "<div>\n",
    "    <div style=\"float:left;\">\n",
    "        <img src=\"http://oproject.org/tiki-download_file.php?fileId=8&display&x=450&y=128\" width=\"50%\" />\n",
    "    </div>\n",
    "    <div style=\"float:left;\">\n",
    "        <img src=\"http://gfif.udea.edu.co/root/tmva/img/tmva_logo.gif\" width=\"50%\"/>\n",
    "    </div>\n",
    "</div>"
   ]
  },
  {
   "cell_type": "markdown",
   "metadata": {},
   "source": [
    "# JsMVA\n",
    "<hr style=\"border-top-width: 4px; border-top-color: #34609b;\">"
   ]
  },
  {
   "cell_type": "markdown",
   "metadata": {},
   "source": [
    "<script src=\"JsRoot/scripts/JSRootCore.js?jq2d&onload=JsRootLoadedCall\" type=\"text/javascript\"></script>"
   ]
  },
  {
   "cell_type": "code",
   "execution_count": 1,
   "metadata": {
    "collapsed": false
   },
   "outputs": [
    {
     "data": {
      "application/javascript": [
       "\n",
       "require(['notebook'],\n",
       "  function() {\n",
       "    IPython.CodeCell.config_defaults.highlight_modes['magic_text/x-c++src'] = {'reg':[/^%%cpp/]};\n",
       "    console.log(\"JupyROOT - %%cpp magic configured\");\n",
       "  }\n",
       ");\n"
      ]
     },
     "metadata": {},
     "output_type": "display_data"
    },
    {
     "name": "stdout",
     "output_type": "stream",
     "text": [
      "Welcome to JupyROOT 6.07/07\n"
     ]
    }
   ],
   "source": [
    "import ROOT\n",
    "from ROOT import TFile, TMVA, TCut"
   ]
  },
  {
   "cell_type": "code",
   "execution_count": 2,
   "metadata": {
    "collapsed": true
   },
   "outputs": [],
   "source": [
    "import sys, os\n",
    "sys.path.append(os.path.expanduser(\"~/code/GSOC/wd/src/python\"))\n",
    "import JsMVA"
   ]
  },
  {
   "cell_type": "code",
   "execution_count": 3,
   "metadata": {
    "collapsed": false
   },
   "outputs": [],
   "source": [
    "%jsmva on"
   ]
  },
  {
   "cell_type": "code",
   "execution_count": 4,
   "metadata": {
    "collapsed": false
   },
   "outputs": [],
   "source": [
    "infname     = \"files/tmva_class_example.root\"\n",
    "dataset     = \"files/tmva_class_example\"\n",
    "treeNameSig = \"TreeS\"\n",
    "treeNameBkg = \"TreeB\"\n",
    "outfname    = \"files/TMVA.root\"\n",
    "methods     = \"Cuts,CutsD,CutsPCA,CutsGA,CutsSA,Likelihood,LikelihoodD,LikelihoodPCA,LikelihoodKDE,LikelihoodMIX,\\\n",
    "PDERS,PDERSD,PDERSPCA,PDEFoam,PDEFoamBoost,KNN,LD,Fisher,FisherG,BoostedFisher,HMatrix,FDA_GA,FDA_SA,FDA_MC,FDA_MT,\\\n",
    "FDA_GAMT,FDA_MCMT,MLP,MLPBFGS,MLPBNN,CFMlpANN,TMlpANN,SVM,BDT,BDTD,BDTG,BDTB,RuleFit\"\n",
    "verbose     = True"
   ]
  },
  {
   "cell_type": "code",
   "execution_count": 5,
   "metadata": {
    "collapsed": false,
    "scrolled": true
   },
   "outputs": [
    {
     "name": "stdout",
     "output_type": "stream",
     "text": [
      "=== TMVAClassification: use method(s)...\n",
      "=== - <BDT>\n",
      "=== - <MLP>\n"
     ]
    }
   ],
   "source": [
    "methods = \"Cuts, CutsD, Likelihood, LikelihoodPCA, PDERS, PDEFoam, KNN, LD, MLPBNN, SVM, BDT, RuleFit\"\n",
    "methods = \"BDT, MLP, KNN, LD\"\n",
    "methods = \"BDT, MLP\"\n",
    "mlist = methods.replace(' ',',').split(',')\n",
    "print \"=== TMVAClassification: use method(s)...\"\n",
    "for m in mlist:\n",
    "    if m.strip() != '':\n",
    "        print \"=== - <%s>\" % m.strip()"
   ]
  },
  {
   "cell_type": "code",
   "execution_count": 6,
   "metadata": {
    "collapsed": false
   },
   "outputs": [
    {
     "name": "stdout",
     "output_type": "stream",
     "text": [
      "--- Factory                  : You are running ROOT Version: 6.07/07, Apr 1, 2016\n",
      "--- Factory                  : \n",
      "--- Factory                  : _/_/_/_/_/ _|      _|  _|      _|    _|_|   \n",
      "--- Factory                  :    _/      _|_|  _|_|  _|      _|  _|    _| \n",
      "--- Factory                  :   _/       _|  _|  _|  _|      _|  _|_|_|_| \n",
      "--- Factory                  :  _/        _|      _|    _|  _|    _|    _| \n",
      "--- Factory                  : _/         _|      _|      _|      _|    _| \n",
      "--- Factory                  : \n",
      "--- Factory                  : ___________TMVA Version 4.2.1, Feb 5, 2015\n",
      "--- Factory                  : \n"
     ]
    }
   ],
   "source": [
    "outputFile = TFile( outfname, 'RECREATE' )\n",
    "\n",
    "TMVA.Tools.Instance()\n",
    "\n",
    "factory = TMVA.Factory( \"TMVAClassification\", outputFile, \n",
    "                            \"!V:!Silent:Color:DrawProgressBar:Transformations=I;D;P;G,D:AnalysisType=Classification\" )\n",
    "\n",
    "# Set verbosity\n",
    "factory.SetVerbose( verbose )\n",
    "\n",
    "loader = TMVA.DataLoader(dataset)\n",
    "\n",
    "loader.AddVariable( \"myvar1 := var1+var2\", 'F' )\n",
    "loader.AddVariable( \"myvar2 := var1-var2\", \"Expression 2\", 'F' )\n",
    "loader.AddVariable( \"var3\",                \"Variable 3\", 'F' )\n",
    "loader.AddVariable( \"var4\",                \"Variable 4\", 'F' )\n",
    "\n",
    "loader.AddSpectator( \"spec1:=var1*2\",  \"Spectator 1\",  'F' )\n",
    "loader.AddSpectator( \"spec2:=var1*3\",  \"Spectator 2\",  'F' )"
   ]
  },
  {
   "cell_type": "code",
   "execution_count": null,
   "metadata": {
    "collapsed": false
   },
   "outputs": [],
   "source": []
  },
  {
   "cell_type": "code",
   "execution_count": 7,
   "metadata": {
    "collapsed": false,
    "scrolled": true
   },
   "outputs": [],
   "source": [
    "if ROOT.gSystem.AccessPathName( \"./\"+infname ) != 0: \n",
    "    ROOT.gSystem.Exec( \"cd files; wget https://root.cern.ch/\" + infname)"
   ]
  },
  {
   "cell_type": "code",
   "execution_count": 8,
   "metadata": {
    "collapsed": false
   },
   "outputs": [
    {
     "name": "stdout",
     "output_type": "stream",
     "text": [
      "--- DataSetInfo              : Dataset[files/tmva_class_example] : Added class \"Signal\"\t with internal class number 0\n",
      "--- files/tmva_class_example : Add Tree TreeS of type Signal with 6000 events\n",
      "--- DataSetInfo              : Dataset[files/tmva_class_example] : Added class \"Background\"\t with internal class number 1\n",
      "--- files/tmva_class_example : Add Tree TreeB of type Background with 6000 events\n",
      "--- files/tmva_class_example : Preparing trees for training and testing...\n"
     ]
    }
   ],
   "source": [
    "input = TFile.Open( infname )\n",
    "\n",
    "# Get the signal and background trees for training\n",
    "signal      = input.Get( treeNameSig )\n",
    "background  = input.Get( treeNameBkg )\n",
    "    \n",
    "# Global event weights (see below for setting event-wise weights)\n",
    "signalWeight     = 1.0\n",
    "backgroundWeight = 1.0\n",
    "\n",
    "signalWeight     = 1.0\n",
    "backgroundWeight = 1.0\n",
    "\n",
    "mycuts = TCut(\"\")\n",
    "mycutb = TCut(\"\")\n",
    "\n",
    "loader.AddSignalTree(signal, signalWeight)\n",
    "loader.AddBackgroundTree(background, backgroundWeight)\n",
    "loader.fSignalWeight = signalWeight\n",
    "loader.fBackgroundWeight = backgroundWeight\n",
    "loader.fTreeS = signal\n",
    "loader.fTreeB = background\n",
    "loader.PrepareTrainingAndTestTree(mycuts,\n",
    "                                  mycutb,\n",
    "                                \"nTrain_Signal=0:nTrain_Background=0:SplitMode=Random:NormMode=NumEvents:!V\");\n",
    "#\"nTrain_Signal=3000:nTrain_Background=3000:nTest_Signal=1449:\n",
    "#nTest_Background=1449:SplitMode=Random:NormMode=NumEvents:!V\")"
   ]
  },
  {
   "cell_type": "code",
   "execution_count": 9,
   "metadata": {
    "collapsed": false,
    "scrolled": false
   },
   "outputs": [
    {
     "name": "stdout",
     "output_type": "stream",
     "text": [
      "--- Factory                  : Booking method: \u001b[1mMLP\u001b[0m DataSet Name: \u001b[1mfiles/tmva_class_example\u001b[0m\n",
      "--- MLP                      : Dataset[files/tmva_class_example] : Create Transformation \"N\" with events from all classes.\n",
      "--- Norm                     : Transformation, Variable selection : \n",
      "--- Norm                     : Input : variable 'myvar1' (index=0).   <---> Output : variable 'myvar1' (index=0).\n",
      "--- Norm                     : Input : variable 'myvar2' (index=1).   <---> Output : variable 'myvar2' (index=1).\n",
      "--- Norm                     : Input : variable 'var3' (index=2).   <---> Output : variable 'var3' (index=2).\n",
      "--- Norm                     : Input : variable 'var4' (index=3).   <---> Output : variable 'var4' (index=3).\n",
      "--- MLP                      : Building Network\n",
      "--- MLP                      : Initializing weights\n",
      "--- Factory                  : Booking method: \u001b[1mBDT\u001b[0m DataSet Name: \u001b[1mfiles/tmva_class_example\u001b[0m\n",
      "--- DataSetFactory           : Dataset[files/tmva_class_example] : Splitmode is: \"RANDOM\" the mixmode is: \"SAMEASSPLITMODE\"\n",
      "--- DataSetFactory           : Dataset[files/tmva_class_example] : Create training and testing trees -- looping over class \"Signal\" ...\n",
      "--- DataSetFactory           : Dataset[files/tmva_class_example] : Weight expression for class 'Signal': \"\"\n",
      "--- DataSetFactory           : Dataset[files/tmva_class_example] : Create training and testing trees -- looping over class \"Background\" ...\n",
      "--- DataSetFactory           : Dataset[files/tmva_class_example] : Weight expression for class 'Background': \"\"\n",
      "--- DataSetFactory           : Dataset[files/tmva_class_example] : Number of events in input trees (after possible flattening of arrays):\n",
      "--- DataSetFactory           : Dataset[files/tmva_class_example] :     Signal          -- number of events       : 6000   / sum of weights: 6000 \n",
      "--- DataSetFactory           : Dataset[files/tmva_class_example] :     Background      -- number of events       : 6000   / sum of weights: 6000 \n",
      "--- DataSetFactory           : Dataset[files/tmva_class_example] :     Signal     tree -- total number of entries: 6000 \n",
      "--- DataSetFactory           : Dataset[files/tmva_class_example] :     Background tree -- total number of entries: 6000 \n",
      "--- DataSetFactory           : Dataset[files/tmva_class_example] : Preselection: (will NOT affect number of requested training and testing events)\n",
      "--- DataSetFactory           : Dataset[files/tmva_class_example] :     No preselection cuts applied on event classes\n",
      "--- DataSetFactory           : Dataset[files/tmva_class_example] : Weight renormalisation mode: \"NumEvents\": renormalises all event classes \n",
      "--- DataSetFactory           : Dataset[files/tmva_class_example] :  such that the effective (weighted) number of events in each class equals the respective \n",
      "--- DataSetFactory           : Dataset[files/tmva_class_example] :  number of events (entries) that you demanded in PrepareTrainingAndTestTree(\"\",\"nTrain_Signal=.. )\n",
      "--- DataSetFactory           : Dataset[files/tmva_class_example] :  ... i.e. such that Sum[i=1..N_j]{w_i} = N_j, j=0,1,2...\n",
      "--- DataSetFactory           : Dataset[files/tmva_class_example] :  ... (note that N_j is the sum of TRAINING events (nTrain_j...with j=Signal,Background..\n",
      "--- DataSetFactory           : Dataset[files/tmva_class_example] :  ..... Testing events are not renormalised nor included in the renormalisation factor! )\n",
      "--- DataSetFactory           : Dataset[files/tmva_class_example] : --> Rescale Signal     event weights by factor: 1\n",
      "--- DataSetFactory           : Dataset[files/tmva_class_example] : --> Rescale Background event weights by factor: 1\n",
      "--- DataSetFactory           : Dataset[files/tmva_class_example] : Number of training and testing events after rescaling:\n",
      "--- DataSetFactory           : Dataset[files/tmva_class_example] : ---------------------------------------------------------------------------\n",
      "--- DataSetFactory           : Dataset[files/tmva_class_example] : Signal     -- training events            : 3000 (sum of weights: 3000) - requested were 0 events\n",
      "--- DataSetFactory           : Dataset[files/tmva_class_example] : Signal     -- testing events             : 3000 (sum of weights: 3000) - requested were 0 events\n",
      "--- DataSetFactory           : Dataset[files/tmva_class_example] : Signal     -- training and testing events: 6000 (sum of weights: 6000)\n",
      "--- DataSetFactory           : Dataset[files/tmva_class_example] : Background -- training events            : 3000 (sum of weights: 3000) - requested were 0 events\n",
      "--- DataSetFactory           : Dataset[files/tmva_class_example] : Background -- testing events             : 3000 (sum of weights: 3000) - requested were 0 events\n",
      "--- DataSetFactory           : Dataset[files/tmva_class_example] : Background -- training and testing events: 6000 (sum of weights: 6000)\n",
      "--- DataSetFactory           : Dataset[files/tmva_class_example] : Create internal training tree\n",
      "--- DataSetFactory           : Dataset[files/tmva_class_example] : Create internal testing tree\n",
      "--- DataSetInfo              : Dataset[files/tmva_class_example] : Correlation matrix (Signal):\n",
      "--- DataSetInfo              : ----------------------------------------------\n",
      "--- DataSetInfo              :            var1+var2 var1-var2    var3    var4\n",
      "--- DataSetInfo              : var1+var2:    +1.000    -0.009  +0.773  +0.926\n",
      "--- DataSetInfo              : var1-var2:    -0.009    +1.000  -0.095  +0.066\n",
      "--- DataSetInfo              :      var3:    +0.773    -0.095  +1.000  +0.852\n",
      "--- DataSetInfo              :      var4:    +0.926    +0.066  +0.852  +1.000\n",
      "--- DataSetInfo              : ----------------------------------------------\n",
      "--- DataSetInfo              : Dataset[files/tmva_class_example] : Correlation matrix (Background):\n",
      "--- DataSetInfo              : ----------------------------------------------\n",
      "--- DataSetInfo              :            var1+var2 var1-var2    var3    var4\n",
      "--- DataSetInfo              : var1+var2:    +1.000    +0.175  +0.956  +0.987\n",
      "--- DataSetInfo              : var1-var2:    +0.175    +1.000  +0.133  +0.213\n",
      "--- DataSetInfo              :      var3:    +0.956    +0.133  +1.000  +0.970\n",
      "--- DataSetInfo              :      var4:    +0.987    +0.213  +0.970  +1.000\n",
      "--- DataSetInfo              : ----------------------------------------------\n",
      "--- DataSetFactory           : Dataset[files/tmva_class_example] :  \n"
     ]
    }
   ],
   "source": [
    "# Booking selected methods, I have a function for that because booking all methods is long...\n",
    "from BM import BM\n",
    "BM(TMVA,factory,loader, mlist);"
   ]
  },
  {
   "cell_type": "code",
   "execution_count": 10,
   "metadata": {
    "collapsed": false
   },
   "outputs": [
    {
     "data": {
      "text/html": [
       "\n",
       "<div id=\"jstmva_1\" style=\"width: 800px; height:450px\"></div>\n",
       "<script>\n",
       "    require.config({\n",
       "        paths: {\n",
       "            'JsMVA':'http://localhost:8888/notebooks/GSOC/wd/src/js/JsMVA.min'\n",
       "        }\n",
       "    });\n",
       "    require(['JsMVA'],function(jsmva){\n",
       "        jsmva.drawTrainingTestingErrors('jstmva_1','{\"l2\": {\"y\": 129.88723704145093, \"x\": 5.0}, \"l1\": {\"y\": 111.11111111111111, \"x\": 5.0}}');\n",
       "    });\n",
       "</script>\n"
      ],
      "text/plain": [
       "<IPython.core.display.HTML object>"
      ]
     },
     "metadata": {},
     "output_type": "display_data"
    },
    {
     "data": {
      "text/html": [
       "<script id=\"dataInserterScript\">\n",
       "require(['JsMVA'],function(jsmva){\n",
       "jsmva.IChartDataInserter('{\"l2\": {\"y\": 129.88723704145093, \"x\": 5.0}, \"l1\": {\"y\": 111.11111111111111, \"x\": 5.0}}');\n",
       "var script = document.getElementById(\"dataInserterScript\");\n",
       "script.parentElement.parentElement.remove();\n",
       "});\n",
       "</script>"
      ],
      "text/plain": [
       "<IPython.core.display.HTML object>"
      ]
     },
     "metadata": {},
     "output_type": "display_data"
    },
    {
     "data": {
      "text/html": [
       "<script id=\"dataInserterScript\">\n",
       "require(['JsMVA'],function(jsmva){\n",
       "jsmva.IChartDataInserter('{\"l2\": {\"y\": 125.62902691361414, \"x\": 6.0}, \"l1\": {\"y\": 100.0, \"x\": 6.0}}');\n",
       "var script = document.getElementById(\"dataInserterScript\");\n",
       "script.parentElement.parentElement.remove();\n",
       "});\n",
       "</script>"
      ],
      "text/plain": [
       "<IPython.core.display.HTML object>"
      ]
     },
     "metadata": {},
     "output_type": "display_data"
    },
    {
     "data": {
      "text/html": [
       "<script id=\"dataInserterScript\">\n",
       "require(['JsMVA'],function(jsmva){\n",
       "jsmva.IChartDataInserter('{\"l2\": {\"y\": 121.51041751873485, \"x\": 7.0}, \"l1\": {\"y\": 90.9090909090909, \"x\": 7.0}}');\n",
       "var script = document.getElementById(\"dataInserterScript\");\n",
       "script.parentElement.parentElement.remove();\n",
       "});\n",
       "</script>"
      ],
      "text/plain": [
       "<IPython.core.display.HTML object>"
      ]
     },
     "metadata": {},
     "output_type": "display_data"
    },
    {
     "data": {
      "text/html": [
       "<script id=\"dataInserterScript\">\n",
       "require(['JsMVA'],function(jsmva){\n",
       "jsmva.IChartDataInserter('{\"l2\": {\"y\": 117.52683220041116, \"x\": 8.0}, \"l1\": {\"y\": 83.33333333333333, \"x\": 8.0}}');\n",
       "var script = document.getElementById(\"dataInserterScript\");\n",
       "script.parentElement.parentElement.remove();\n",
       "});\n",
       "</script>"
      ],
      "text/plain": [
       "<IPython.core.display.HTML object>"
      ]
     },
     "metadata": {},
     "output_type": "display_data"
    },
    {
     "data": {
      "text/html": [
       "<script id=\"dataInserterScript\">\n",
       "require(['JsMVA'],function(jsmva){\n",
       "jsmva.IChartDataInserter('{\"l2\": {\"y\": 113.67384434288473, \"x\": 9.0}, \"l1\": {\"y\": 76.92307692307692, \"x\": 9.0}}');\n",
       "var script = document.getElementById(\"dataInserterScript\");\n",
       "script.parentElement.parentElement.remove();\n",
       "});\n",
       "</script>"
      ],
      "text/plain": [
       "<IPython.core.display.HTML object>"
      ]
     },
     "metadata": {},
     "output_type": "display_data"
    },
    {
     "data": {
      "text/html": [
       "<script id=\"dataInserterScript\">\n",
       "require(['JsMVA'],function(jsmva){\n",
       "jsmva.IChartDataInserter('{\"l2\": {\"y\": 109.94717245212352, \"x\": 10.0}, \"l1\": {\"y\": 71.42857142857143, \"x\": 10.0}}');\n",
       "var script = document.getElementById(\"dataInserterScript\");\n",
       "script.parentElement.parentElement.remove();\n",
       "});\n",
       "</script>"
      ],
      "text/plain": [
       "<IPython.core.display.HTML object>"
      ]
     },
     "metadata": {},
     "output_type": "display_data"
    },
    {
     "data": {
      "text/html": [
       "<script id=\"dataInserterScript\">\n",
       "require(['JsMVA'],function(jsmva){\n",
       "jsmva.IChartDataInserter('{\"l2\": {\"y\": 106.34267539816554, \"x\": 11.0}, \"l1\": {\"y\": 66.66666666666667, \"x\": 11.0}}');\n",
       "var script = document.getElementById(\"dataInserterScript\");\n",
       "script.parentElement.parentElement.remove();\n",
       "});\n",
       "</script>"
      ],
      "text/plain": [
       "<IPython.core.display.HTML object>"
      ]
     },
     "metadata": {},
     "output_type": "display_data"
    },
    {
     "data": {
      "text/html": [
       "<script id=\"dataInserterScript\">\n",
       "require(['JsMVA'],function(jsmva){\n",
       "jsmva.IChartDataInserter('{\"l2\": {\"y\": 102.85634781343744, \"x\": 12.0}, \"l1\": {\"y\": 62.5, \"x\": 12.0}}');\n",
       "var script = document.getElementById(\"dataInserterScript\");\n",
       "script.parentElement.parentElement.remove();\n",
       "});\n",
       "</script>"
      ],
      "text/plain": [
       "<IPython.core.display.HTML object>"
      ]
     },
     "metadata": {},
     "output_type": "display_data"
    },
    {
     "data": {
      "text/html": [
       "<script id=\"dataInserterScript\">\n",
       "require(['JsMVA'],function(jsmva){\n",
       "jsmva.IChartDataInserter('{\"l2\": {\"y\": 99.48431564193378, \"x\": 13.0}, \"l1\": {\"y\": 58.8235294117647, \"x\": 13.0}}');\n",
       "var script = document.getElementById(\"dataInserterScript\");\n",
       "script.parentElement.parentElement.remove();\n",
       "});\n",
       "</script>"
      ],
      "text/plain": [
       "<IPython.core.display.HTML object>"
      ]
     },
     "metadata": {},
     "output_type": "display_data"
    },
    {
     "data": {
      "text/html": [
       "<script id=\"dataInserterScript\">\n",
       "require(['JsMVA'],function(jsmva){\n",
       "jsmva.IChartDataInserter('{\"l2\": {\"y\": 96.22283183431222, \"x\": 14.0}, \"l1\": {\"y\": 55.55555555555556, \"x\": 14.0}}');\n",
       "var script = document.getElementById(\"dataInserterScript\");\n",
       "script.parentElement.parentElement.remove();\n",
       "});\n",
       "</script>"
      ],
      "text/plain": [
       "<IPython.core.display.HTML object>"
      ]
     },
     "metadata": {},
     "output_type": "display_data"
    },
    {
     "data": {
      "text/html": [
       "<script id=\"dataInserterScript\">\n",
       "require(['JsMVA'],function(jsmva){\n",
       "jsmva.IChartDataInserter('{\"l2\": {\"y\": 93.0682721841193, \"x\": 15.0}, \"l1\": {\"y\": 52.63157894736842, \"x\": 15.0}}');\n",
       "var script = document.getElementById(\"dataInserterScript\");\n",
       "script.parentElement.parentElement.remove();\n",
       "});\n",
       "</script>"
      ],
      "text/plain": [
       "<IPython.core.display.HTML object>"
      ]
     },
     "metadata": {},
     "output_type": "display_data"
    },
    {
     "data": {
      "text/html": [
       "<script id=\"dataInserterScript\">\n",
       "require(['JsMVA'],function(jsmva){\n",
       "jsmva.IChartDataInserter('{\"l2\": {\"y\": 90.01713130052181, \"x\": 16.0}, \"l1\": {\"y\": 50.0, \"x\": 16.0}}');\n",
       "var script = document.getElementById(\"dataInserterScript\");\n",
       "script.parentElement.parentElement.remove();\n",
       "});\n",
       "</script>"
      ],
      "text/plain": [
       "<IPython.core.display.HTML object>"
      ]
     },
     "metadata": {},
     "output_type": "display_data"
    },
    {
     "data": {
      "text/html": [
       "<script id=\"dataInserterScript\">\n",
       "require(['JsMVA'],function(jsmva){\n",
       "jsmva.IChartDataInserter('{\"l2\": {\"y\": 87.06601871306744, \"x\": 17.0}, \"l1\": {\"y\": 47.61904761904762, \"x\": 17.0}}');\n",
       "var script = document.getElementById(\"dataInserterScript\");\n",
       "script.parentElement.parentElement.remove();\n",
       "});\n",
       "</script>"
      ],
      "text/plain": [
       "<IPython.core.display.HTML object>"
      ]
     },
     "metadata": {},
     "output_type": "display_data"
    },
    {
     "data": {
      "text/html": [
       "<script id=\"dataInserterScript\">\n",
       "require(['JsMVA'],function(jsmva){\n",
       "jsmva.IChartDataInserter('{\"l2\": {\"y\": 84.21165510414644, \"x\": 18.0}, \"l1\": {\"y\": 45.45454545454545, \"x\": 18.0}}');\n",
       "var script = document.getElementById(\"dataInserterScript\");\n",
       "script.parentElement.parentElement.remove();\n",
       "});\n",
       "</script>"
      ],
      "text/plain": [
       "<IPython.core.display.HTML object>"
      ]
     },
     "metadata": {},
     "output_type": "display_data"
    },
    {
     "data": {
      "text/html": [
       "<script id=\"dataInserterScript\">\n",
       "require(['JsMVA'],function(jsmva){\n",
       "jsmva.IChartDataInserter('{\"l2\": {\"y\": 81.45086866496814, \"x\": 19.0}, \"l1\": {\"y\": 43.47826086956522, \"x\": 19.0}}');\n",
       "var script = document.getElementById(\"dataInserterScript\");\n",
       "script.parentElement.parentElement.remove();\n",
       "});\n",
       "</script>"
      ],
      "text/plain": [
       "<IPython.core.display.HTML object>"
      ]
     },
     "metadata": {},
     "output_type": "display_data"
    },
    {
     "data": {
      "text/html": [
       "<script id=\"dataInserterScript\">\n",
       "require(['JsMVA'],function(jsmva){\n",
       "jsmva.IChartDataInserter('{\"l2\": {\"y\": 78.7805915710025, \"x\": 20.0}, \"l1\": {\"y\": 41.666666666666664, \"x\": 20.0}}');\n",
       "var script = document.getElementById(\"dataInserterScript\");\n",
       "script.parentElement.parentElement.remove();\n",
       "});\n",
       "</script>"
      ],
      "text/plain": [
       "<IPython.core.display.HTML object>"
      ]
     },
     "metadata": {},
     "output_type": "display_data"
    },
    {
     "data": {
      "text/html": [
       "<script id=\"dataInserterScript\">\n",
       "require(['JsMVA'],function(jsmva){\n",
       "jsmva.IChartDataInserter('{\"l2\": {\"y\": 76.19785657297057, \"x\": 21.0}, \"l1\": {\"y\": 40.0, \"x\": 21.0}}');\n",
       "var script = document.getElementById(\"dataInserterScript\");\n",
       "script.parentElement.parentElement.remove();\n",
       "});\n",
       "</script>"
      ],
      "text/plain": [
       "<IPython.core.display.HTML object>"
      ]
     },
     "metadata": {},
     "output_type": "display_data"
    },
    {
     "data": {
      "text/html": [
       "<script id=\"dataInserterScript\">\n",
       "require(['JsMVA'],function(jsmva){\n",
       "jsmva.IChartDataInserter('{\"l2\": {\"y\": 73.69979369959579, \"x\": 22.0}, \"l1\": {\"y\": 38.46153846153846, \"x\": 22.0}}');\n",
       "var script = document.getElementById(\"dataInserterScript\");\n",
       "script.parentElement.parentElement.remove();\n",
       "});\n",
       "</script>"
      ],
      "text/plain": [
       "<IPython.core.display.HTML object>"
      ]
     },
     "metadata": {},
     "output_type": "display_data"
    },
    {
     "data": {
      "text/html": [
       "<script id=\"dataInserterScript\">\n",
       "require(['JsMVA'],function(jsmva){\n",
       "jsmva.IChartDataInserter('{\"l2\": {\"y\": 71.28362706845135, \"x\": 23.0}, \"l1\": {\"y\": 37.03703703703704, \"x\": 23.0}}');\n",
       "var script = document.getElementById(\"dataInserterScript\");\n",
       "script.parentElement.parentElement.remove();\n",
       "});\n",
       "</script>"
      ],
      "text/plain": [
       "<IPython.core.display.HTML object>"
      ]
     },
     "metadata": {},
     "output_type": "display_data"
    },
    {
     "data": {
      "text/html": [
       "<script id=\"dataInserterScript\">\n",
       "require(['JsMVA'],function(jsmva){\n",
       "jsmva.IChartDataInserter('{\"l2\": {\"y\": 68.94667180136109, \"x\": 24.0}, \"l1\": {\"y\": 35.714285714285715, \"x\": 24.0}}');\n",
       "var script = document.getElementById(\"dataInserterScript\");\n",
       "script.parentElement.parentElement.remove();\n",
       "});\n",
       "</script>"
      ],
      "text/plain": [
       "<IPython.core.display.HTML object>"
      ]
     },
     "metadata": {},
     "output_type": "display_data"
    },
    {
     "data": {
      "text/html": [
       "<script id=\"dataInserterScript\">\n",
       "require(['JsMVA'],function(jsmva){\n",
       "jsmva.IChartDataInserter('{\"l2\": {\"y\": 66.68633104092515, \"x\": 25.0}, \"l1\": {\"y\": 34.48275862068966, \"x\": 25.0}}');\n",
       "var script = document.getElementById(\"dataInserterScript\");\n",
       "script.parentElement.parentElement.remove();\n",
       "});\n",
       "</script>"
      ],
      "text/plain": [
       "<IPython.core.display.HTML object>"
      ]
     },
     "metadata": {},
     "output_type": "display_data"
    },
    {
     "data": {
      "text/html": [
       "<script id=\"dataInserterScript\">\n",
       "require(['JsMVA'],function(jsmva){\n",
       "jsmva.IChartDataInserter('{\"l2\": {\"y\": 64.50009306485578, \"x\": 26.0}, \"l1\": {\"y\": 33.333333333333336, \"x\": 26.0}}');\n",
       "var script = document.getElementById(\"dataInserterScript\");\n",
       "script.parentElement.parentElement.remove();\n",
       "});\n",
       "</script>"
      ],
      "text/plain": [
       "<IPython.core.display.HTML object>"
      ]
     },
     "metadata": {},
     "output_type": "display_data"
    },
    {
     "data": {
      "text/html": [
       "<script id=\"dataInserterScript\">\n",
       "require(['JsMVA'],function(jsmva){\n",
       "jsmva.IChartDataInserter('{\"l2\": {\"y\": 62.38552849491623, \"x\": 27.0}, \"l1\": {\"y\": 32.25806451612903, \"x\": 27.0}}');\n",
       "var script = document.getElementById(\"dataInserterScript\");\n",
       "script.parentElement.parentElement.remove();\n",
       "});\n",
       "</script>"
      ],
      "text/plain": [
       "<IPython.core.display.HTML object>"
      ]
     },
     "metadata": {},
     "output_type": "display_data"
    },
    {
     "data": {
      "text/html": [
       "<script id=\"dataInserterScript\">\n",
       "require(['JsMVA'],function(jsmva){\n",
       "jsmva.IChartDataInserter('{\"l2\": {\"y\": 60.34028759736195, \"x\": 28.0}, \"l1\": {\"y\": 31.25, \"x\": 28.0}}');\n",
       "var script = document.getElementById(\"dataInserterScript\");\n",
       "script.parentElement.parentElement.remove();\n",
       "});\n",
       "</script>"
      ],
      "text/plain": [
       "<IPython.core.display.HTML object>"
      ]
     },
     "metadata": {},
     "output_type": "display_data"
    },
    {
     "data": {
      "text/html": [
       "<script id=\"dataInserterScript\">\n",
       "require(['JsMVA'],function(jsmva){\n",
       "jsmva.IChartDataInserter('{\"l2\": {\"y\": 58.36209767188318, \"x\": 29.0}, \"l1\": {\"y\": 30.303030303030305, \"x\": 29.0}}');\n",
       "var script = document.getElementById(\"dataInserterScript\");\n",
       "script.parentElement.parentElement.remove();\n",
       "});\n",
       "</script>"
      ],
      "text/plain": [
       "<IPython.core.display.HTML object>"
      ]
     },
     "metadata": {},
     "output_type": "display_data"
    },
    {
     "data": {
      "text/html": [
       "<script id=\"dataInserterScript\">\n",
       "require(['JsMVA'],function(jsmva){\n",
       "jsmva.IChartDataInserter('{\"l2\": {\"y\": 56.44876052614881, \"x\": 30.0}, \"l1\": {\"y\": 29.41176470588235, \"x\": 30.0}}');\n",
       "var script = document.getElementById(\"dataInserterScript\");\n",
       "script.parentElement.parentElement.remove();\n",
       "});\n",
       "</script>"
      ],
      "text/plain": [
       "<IPython.core.display.HTML object>"
      ]
     },
     "metadata": {},
     "output_type": "display_data"
    },
    {
     "data": {
      "text/html": [
       "<script id=\"dataInserterScript\">\n",
       "require(['JsMVA'],function(jsmva){\n",
       "jsmva.IChartDataInserter('{\"l2\": {\"y\": 54.598150033144236, \"x\": 31.0}, \"l1\": {\"y\": 28.571428571428573, \"x\": 31.0}}');\n",
       "var script = document.getElementById(\"dataInserterScript\");\n",
       "script.parentElement.parentElement.remove();\n",
       "});\n",
       "</script>"
      ],
      "text/plain": [
       "<IPython.core.display.HTML object>"
      ]
     },
     "metadata": {},
     "output_type": "display_data"
    },
    {
     "data": {
      "text/html": [
       "<script id=\"dataInserterScript\">\n",
       "require(['JsMVA'],function(jsmva){\n",
       "jsmva.IChartDataInserter('{\"l2\": {\"y\": 52.80820976858928, \"x\": 32.0}, \"l1\": {\"y\": 27.77777777777778, \"x\": 32.0}}');\n",
       "var script = document.getElementById(\"dataInserterScript\");\n",
       "script.parentElement.parentElement.remove();\n",
       "});\n",
       "</script>"
      ],
      "text/plain": [
       "<IPython.core.display.HTML object>"
      ]
     },
     "metadata": {},
     "output_type": "display_data"
    }
   ],
   "source": [
    "factory.TrainAllMethods2(dataset)"
   ]
  },
  {
   "cell_type": "code",
   "execution_count": null,
   "metadata": {
    "collapsed": true
   },
   "outputs": [],
   "source": [
    "from threading import Thread\n",
    "\n",
    "TMVA.Factory.TrainAllMethods._threaded = True\n",
    "t=Thread(target=TMVA.Factory.TrainAllMethods, args=[factory])\n",
    "t.start()\n",
    "print(\"hi\")"
   ]
  },
  {
   "cell_type": "code",
   "execution_count": null,
   "metadata": {
    "collapsed": false,
    "scrolled": true
   },
   "outputs": [],
   "source": [
    "#factory.TestAllMethods()\n",
    "\n",
    "#factory.EvaluateAllMethods()"
   ]
  },
  {
   "cell_type": "markdown",
   "metadata": {
    "collapsed": true
   },
   "source": [
    "# Input variables"
   ]
  },
  {
   "cell_type": "markdown",
   "metadata": {},
   "source": [
    "## Original input"
   ]
  },
  {
   "cell_type": "code",
   "execution_count": null,
   "metadata": {
    "collapsed": false
   },
   "outputs": [],
   "source": [
    "loader.DrawInputVariable(\"myvar1\")"
   ]
  },
  {
   "cell_type": "markdown",
   "metadata": {},
   "source": [
    "## Transformed input"
   ]
  },
  {
   "cell_type": "code",
   "execution_count": null,
   "metadata": {
    "collapsed": false,
    "scrolled": false
   },
   "outputs": [],
   "source": [
    "loader.DrawInputVariable(\"myvar1\", processTrfs=\"D\") #I;N;D;P;U;G,D"
   ]
  },
  {
   "cell_type": "markdown",
   "metadata": {},
   "source": [
    "## Correlation matrix"
   ]
  },
  {
   "cell_type": "code",
   "execution_count": null,
   "metadata": {
    "collapsed": false,
    "scrolled": false
   },
   "outputs": [],
   "source": [
    "loader.DrawCorrelationMatrix(\"Signal\")"
   ]
  },
  {
   "cell_type": "markdown",
   "metadata": {},
   "source": [
    "# Classifier Output Distributions"
   ]
  },
  {
   "cell_type": "code",
   "execution_count": null,
   "metadata": {
    "collapsed": false
   },
   "outputs": [],
   "source": [
    "factory.DrawOutputDistribution(dataset, \"MLP\")"
   ]
  },
  {
   "cell_type": "markdown",
   "metadata": {},
   "source": [
    "# Classifier Probability Distributions"
   ]
  },
  {
   "cell_type": "code",
   "execution_count": null,
   "metadata": {
    "collapsed": false
   },
   "outputs": [],
   "source": [
    "factory.DrawProbabilityDistribution(dataset, \"LD\")"
   ]
  },
  {
   "cell_type": "markdown",
   "metadata": {},
   "source": [
    "# ROC curve"
   ]
  },
  {
   "cell_type": "code",
   "execution_count": null,
   "metadata": {
    "collapsed": false,
    "scrolled": false
   },
   "outputs": [],
   "source": [
    "print(dataset)\n",
    "factory.DrawROCCurve(dataset)#\"tmva_class_example\")"
   ]
  },
  {
   "cell_type": "markdown",
   "metadata": {},
   "source": [
    "# Classifier Cut Efficiencies"
   ]
  },
  {
   "cell_type": "code",
   "execution_count": null,
   "metadata": {
    "collapsed": false
   },
   "outputs": [],
   "source": [
    "factory.DrawCutEfficiencies(dataset, \"KNN\")"
   ]
  },
  {
   "cell_type": "markdown",
   "metadata": {},
   "source": [
    "# Neural Network"
   ]
  },
  {
   "cell_type": "markdown",
   "metadata": {},
   "source": [
    "* Mouseover (node, weight): focusing\n",
    "* Zooming and grab and move supported\n",
    "* Reset: double click"
   ]
  },
  {
   "cell_type": "code",
   "execution_count": null,
   "metadata": {
    "collapsed": false
   },
   "outputs": [],
   "source": [
    "factory.DrawNeuralNetwork(dataset, \"MLP\")"
   ]
  },
  {
   "cell_type": "markdown",
   "metadata": {},
   "source": [
    "# Decision Tree"
   ]
  },
  {
   "cell_type": "markdown",
   "metadata": {},
   "source": [
    "* Mouseover (node, weight): showing decision path\n",
    "* Zooming and grab and move supported\n",
    "* Reset: double click\n",
    "* Click on node: \n",
    "    * hiding subtree, if node children are hidden the node will have a green border\n",
    "    * rescaling: bigger nodes, bigger texts\n",
    "    * click again to show the subtree"
   ]
  },
  {
   "cell_type": "code",
   "execution_count": null,
   "metadata": {
    "collapsed": false
   },
   "outputs": [],
   "source": [
    "factory.DrawDecisionTree(dataset, \"BDT\") #11"
   ]
  },
  {
   "cell_type": "code",
   "execution_count": null,
   "metadata": {
    "collapsed": false
   },
   "outputs": [],
   "source": [
    "outputFile.Close()"
   ]
  },
  {
   "cell_type": "code",
   "execution_count": null,
   "metadata": {
    "collapsed": true
   },
   "outputs": [],
   "source": []
  }
 ],
 "metadata": {
  "kernelspec": {
   "display_name": "Python 2",
   "language": "python",
   "name": "python2"
  },
  "language_info": {
   "codemirror_mode": {
    "name": "ipython",
    "version": 2
   },
   "file_extension": ".py",
   "mimetype": "text/x-python",
   "name": "python",
   "nbconvert_exporter": "python",
   "pygments_lexer": "ipython2",
   "version": "2.7.11"
  }
 },
 "nbformat": 4,
 "nbformat_minor": 0
}
