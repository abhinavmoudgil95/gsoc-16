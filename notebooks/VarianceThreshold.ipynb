{
 "cells": [
  {
   "cell_type": "markdown",
   "metadata": {},
   "source": [
    "<img src=\"http://oproject.org/tiki-download_file.php?fileId=8&display&x=450&y=128\" width=\"200\" height=\"200\">\n",
    "<img src=\"http://gfif.udea.edu.co/root/tmva/img/tmva_logo.gif\" width=\"200\" height=\"200\">\n",
    "\n",
    "# Variance Threshold Transformation\n",
    "<hr style=\"border-top-width: 4px; border-top-color: #34609b;\"> "
   ]
  },
  {
   "cell_type": "markdown",
   "metadata": {},
   "source": [
    "## Introduction\n",
    "\n",
    "In high energy physics and machine learning problems, we often encounter data which have large number of input variables. However to extract maximum information from the data, we need to select the relevant input variables for the multivariate classification and regression methods implemented in TMVA. Variance Threshold is a simple unsupervised variable selection method which automates this process. \n",
    "\n",
    "It computes weighted variance $\\sigma^2_V$ for each variable $V$ and ignores the ones whose variance doesn't meet a specific threshold. Weighted variance for each variable is defined as follows: \n",
    "$$\\sigma^2_V = \\frac{\\sum_{i=1}^N w_i (x_i - \\mu_V)^2}{\\sum_{i=1}^N w_i}$$\n",
    "\n",
    "where $N$ is the number of events in a dataset, $x_i$ denotes the value of variable for the $i$th event, $w_i$ is the weight of each event and $\\mu_V$ denotes the weighted mean of variable. \n",
    "$$\\mu_V = \\frac{\\sum_{i=1}^N w_i x_i}{\\sum_{i=1}^N w_i}$$\n",
    "\n",
    "A threshold $T$ for variance can be set by user otherwise default value of threshold is zero i.e. remove the variables which have same value in all the events. We get a new set of variables $S$ which can be formally defined as: \n",
    "\n",
    "$$S = \\{V  \\mid \\sigma^2_V > T \\}$$"
   ]
  },
  {
   "cell_type": "code",
   "execution_count": 1,
   "metadata": {
    "collapsed": false
   },
   "outputs": [
    {
     "data": {
      "application/javascript": [
       "\n",
       "require(['notebook'],\n",
       "  function() {\n",
       "    IPython.CodeCell.config_defaults.highlight_modes['magic_text/x-c++src'] = {'reg':[/^%%cpp/]};\n",
       "    console.log(\"JupyROOT - %%cpp magic configured\");\n",
       "  }\n",
       ");\n"
      ]
     },
     "metadata": {},
     "output_type": "display_data"
    },
    {
     "name": "stdout",
     "output_type": "stream",
     "text": [
      "Welcome to JupyROOT 6.07/07\n"
     ]
    }
   ],
   "source": [
    "import ROOT\n",
    "from ROOT import TFile, TMVA, TCut"
   ]
  },
  {
   "cell_type": "markdown",
   "metadata": {},
   "source": [
    "## Initialize DataLoader and Factory "
   ]
  },
  {
   "cell_type": "code",
   "execution_count": 2,
   "metadata": {
    "collapsed": false
   },
   "outputs": [
    {
     "name": "stdout",
     "output_type": "stream",
     "text": [
      "--- Factory                  : You are running ROOT Version: 6.07/07, Apr 1, 2016\n",
      "--- Factory                  : \n",
      "--- Factory                  : _/_/_/_/_/ _|      _|  _|      _|    _|_|   \n",
      "--- Factory                  :    _/      _|_|  _|_|  _|      _|  _|    _| \n",
      "--- Factory                  :   _/       _|  _|  _|  _|      _|  _|_|_|_| \n",
      "--- Factory                  :  _/        _|      _|    _|  _|    _|    _| \n",
      "--- Factory                  : _/         _|      _|      _|      _|    _| \n",
      "--- Factory                  : \n",
      "--- Factory                  : ___________TMVA Version 4.2.1, Feb 5, 2015\n",
      "--- Factory                  : \n"
     ]
    }
   ],
   "source": [
    "outputFile = TFile(\"VTOutput.root\", \"RECREATE\")\n",
    "inputFile  = TFile(\"mydataset.root\")\n",
    "\n",
    "TMVA.Tools.Instance()\n",
    "\n",
    "factory = TMVA.Factory(\"TMVAClassification\",\n",
    "                       outputFile,\n",
    "                       \"!V:ROC:!Correlations:!Silent:Color:!DrawProgressBar:AnalysisType=Classification\")\n",
    "   \n",
    "loader = TMVA.DataLoader(\"mydataset\")\n",
    "\n",
    "# Adding variables to dataset\n",
    "loader.AddVariable(\"var0\", 'F')\n",
    "loader.AddVariable(\"var1\", 'F')\n",
    "loader.AddVariable(\"var2\", 'F')\n",
    "loader.AddVariable(\"var3 := var0-var1\", 'F')\n",
    "loader.AddVariable(\"var4 := var0*var2\", 'F')\n",
    "loader.AddVariable(\"var5 := var1+var2\", 'F')"
   ]
  },
  {
   "cell_type": "markdown",
   "metadata": {},
   "source": [
    "## Setup Dataset from Trees"
   ]
  },
  {
   "cell_type": "code",
   "execution_count": 3,
   "metadata": {
    "collapsed": false
   },
   "outputs": [
    {
     "name": "stdout",
     "output_type": "stream",
     "text": [
      "--- TMVAClassification       : Using input file: mydataset.root\n",
      "--- DataSetInfo              : Dataset[mydataset] : Added class \"Signal\"\t with internal class number 0\n",
      "--- mydataset                : Add Tree MyMCSig of type Signal with 5449 events\n",
      "--- DataSetInfo              : Dataset[mydataset] : Added class \"Background\"\t with internal class number 1\n",
      "--- mydataset                : Add Tree MyMCBkg of type Background with 5449 events\n",
      "--- mydataset                : Preparing trees for training and testing...\n"
     ]
    }
   ],
   "source": [
    "print \"--- TMVAClassification       : Using input file:\", inputFile.GetName()\n",
    "   \n",
    "# Register the training and test trees\n",
    "tsignal     = inputFile.Get(\"MyMCSig\")\n",
    "tbackground = inputFile.Get(\"MyMCBkg\")\n",
    "     \n",
    "signalWeight     = 1.0\n",
    "backgroundWeight = 1.0\n",
    "    \n",
    "mycuts = TCut(\"\")\n",
    "mycutb = TCut(\"\")\n",
    "\n",
    "loader.AddSignalTree(tsignal, signalWeight)\n",
    "loader.AddBackgroundTree(tbackground, backgroundWeight)\n",
    "loader.fSignalWeight = signalWeight\n",
    "loader.fBackgroundWeight = backgroundWeight\n",
    "loader.fTreeS = tsignal\n",
    "loader.fTreeB = tbackground\n",
    "loader.PrepareTrainingAndTestTree(mycuts,\n",
    "                                  mycutb,\n",
    "                                  \"nTrain_Signal=3000:nTrain_Background=3000:nTest_Signal=1449:nTest_Background=1449:SplitMode=Random:NormMode=NumEvents:!V\")"
   ]
  },
  {
   "cell_type": "markdown",
   "metadata": {},
   "source": [
    "## Apply Variance Threshold \n",
    "\n",
    "After having dataset loaded in DataLoader with all the variables, we are now ready to apply Variance Threshold transformation. It is implemented in VarTransform method in [DataLoader](https://root.cern.ch/doc/master/classTMVA_1_1DataLoader.html) class. \n",
    "\n",
    "### Method Definition\n",
    "Parameters: Transformation definition string  \n",
    "Returns: DataLoader with selected subset of variables   \n",
    "\n",
    "Transformation defintion string **should only follow** either of the following formats otherwise method would raise an error.\n",
    "\n",
    "|String            | Description                                                            |\n",
    "|------------------|------------------------------------------------------------------------|\n",
    "|\"VT\"              | Select variables whose variance is above threshold value = 0 (Default) |\n",
    "|\"VT(float_value)\" | Select variables whose variance lies above float_value passed.         |\n",
    "\n",
    "\n"
   ]
  },
  {
   "cell_type": "code",
   "execution_count": 4,
   "metadata": {
    "collapsed": false
   },
   "outputs": [
    {
     "name": "stdout",
     "output_type": "stream",
     "text": [
      "--- mydataset                : Transformation: VT\n",
      "--- mydataset                : Threshold value: 2.95\n",
      "--- DataSetFactory           : Dataset[mydataset] : Splitmode is: \"RANDOM\" the mixmode is: \"SAMEASSPLITMODE\"\n",
      "--- DataSetFactory           : Dataset[mydataset] : Create training and testing trees -- looping over class \"Signal\" ...\n",
      "--- DataSetFactory           : Dataset[mydataset] : Weight expression for class 'Signal': \"\"\n",
      "--- DataSetFactory           : Dataset[mydataset] : Create training and testing trees -- looping over class \"Background\" ...\n",
      "--- DataSetFactory           : Dataset[mydataset] : Weight expression for class 'Background': \"\"\n",
      "--- DataSetFactory           : Dataset[mydataset] : Number of events in input trees (after possible flattening of arrays):\n",
      "--- DataSetFactory           : Dataset[mydataset] :     Signal          -- number of events       : 5449   / sum of weights: 5449 \n",
      "--- DataSetFactory           : Dataset[mydataset] :     Background      -- number of events       : 5449   / sum of weights: 5449 \n",
      "--- DataSetFactory           : Dataset[mydataset] :     Signal     tree -- total number of entries: 5449 \n",
      "--- DataSetFactory           : Dataset[mydataset] :     Background tree -- total number of entries: 5449 \n",
      "--- DataSetFactory           : Dataset[mydataset] : Preselection: (will NOT affect number of requested training and testing events)\n",
      "--- DataSetFactory           : Dataset[mydataset] :     No preselection cuts applied on event classes\n",
      "--- DataSetFactory           : Dataset[mydataset] : Weight renormalisation mode: \"NumEvents\": renormalises all event classes \n",
      "--- DataSetFactory           : Dataset[mydataset] :  such that the effective (weighted) number of events in each class equals the respective \n",
      "--- DataSetFactory           : Dataset[mydataset] :  number of events (entries) that you demanded in PrepareTrainingAndTestTree(\"\",\"nTrain_Signal=.. )\n",
      "--- DataSetFactory           : Dataset[mydataset] :  ... i.e. such that Sum[i=1..N_j]{w_i} = N_j, j=0,1,2...\n",
      "--- DataSetFactory           : Dataset[mydataset] :  ... (note that N_j is the sum of TRAINING events (nTrain_j...with j=Signal,Background..\n",
      "--- DataSetFactory           : Dataset[mydataset] :  ..... Testing events are not renormalised nor included in the renormalisation factor! )\n",
      "--- DataSetFactory           : Dataset[mydataset] : --> Rescale Signal     event weights by factor: 1\n",
      "--- DataSetFactory           : Dataset[mydataset] : --> Rescale Background event weights by factor: 1\n",
      "--- DataSetFactory           : Dataset[mydataset] : Number of training and testing events after rescaling:\n",
      "--- DataSetFactory           : Dataset[mydataset] : ---------------------------------------------------------------------------\n",
      "--- DataSetFactory           : Dataset[mydataset] : Signal     -- training events            : 3000 (sum of weights: 3000) - requested were 3000 events\n",
      "--- DataSetFactory           : Dataset[mydataset] : Signal     -- testing events             : 1449 (sum of weights: 1449) - requested were 1449 events\n",
      "--- DataSetFactory           : Dataset[mydataset] : Signal     -- training and testing events: 4449 (sum of weights: 4449)\n",
      "--- DataSetFactory           : Dataset[mydataset] : Background -- training events            : 3000 (sum of weights: 3000) - requested were 3000 events\n",
      "--- DataSetFactory           : Dataset[mydataset] : Background -- testing events             : 1449 (sum of weights: 1449) - requested were 1449 events\n",
      "--- DataSetFactory           : Dataset[mydataset] : Background -- training and testing events: 4449 (sum of weights: 4449)\n",
      "--- DataSetFactory           : Dataset[mydataset] : Create internal training tree\n",
      "--- DataSetFactory           : Dataset[mydataset] : Create internal testing tree\n",
      "--- DataSetInfo              : Dataset[mydataset] : Correlation matrix (Signal):\n",
      "--- DataSetInfo              : ----------------------------------------------------------------\n",
      "--- DataSetInfo              :               var0    var1    var2 var0-var1 var0*var2 var1+var2\n",
      "--- DataSetInfo              :      var0:  +1.000  -0.008  +0.011    +0.852    +0.922    +0.000\n",
      "--- DataSetInfo              :      var1:  -0.008  +1.000  +0.010    -0.531    -0.004    +0.811\n",
      "--- DataSetInfo              :      var2:  +0.011  +0.010  +1.000    +0.004    +0.335    +0.593\n",
      "--- DataSetInfo              : var0-var1:  +0.852  -0.531  +0.004    +1.000    +0.784    -0.425\n",
      "--- DataSetInfo              : var0*var2:  +0.922  -0.004  +0.335    +0.784    +1.000    +0.192\n",
      "--- DataSetInfo              : var1+var2:  +0.000  +0.811  +0.593    -0.425    +0.192    +1.000\n",
      "--- DataSetInfo              : ----------------------------------------------------------------\n",
      "--- DataSetInfo              : Dataset[mydataset] : Correlation matrix (Background):\n",
      "--- DataSetInfo              : ----------------------------------------------------------------\n",
      "--- DataSetInfo              :               var0    var1    var2 var0-var1 var0*var2 var1+var2\n",
      "--- DataSetInfo              :      var0:  +1.000  -0.008  +0.008    +0.650    +0.670    -0.001\n",
      "--- DataSetInfo              :      var1:  -0.008  +1.000  +0.009    -0.766    +0.001    +0.738\n",
      "--- DataSetInfo              :      var2:  +0.008  +0.009  +1.000    -0.002    +0.696    +0.682\n",
      "--- DataSetInfo              : var0-var1:  +0.650  -0.766  -0.002    +1.000    +0.431    -0.561\n",
      "--- DataSetInfo              : var0*var2:  +0.670  +0.001  +0.696    +0.431    +1.000    +0.471\n",
      "--- DataSetInfo              : var1+var2:  -0.001  +0.738  +0.682    -0.561    +0.471    +1.000\n",
      "--- DataSetInfo              : ----------------------------------------------------------------\n",
      "--- DataSetFactory           : Dataset[mydataset] :  \n",
      "--- mydataset                : Number of events: 6000\n",
      "--- mydataset                : Number of variables before transformation: 6\n",
      "--- mydataset                : Variable var0 variance = 2.83513\n",
      "--- mydataset                : Variable var1 variance = 2.02377\n",
      "--- mydataset                : Variable var2 variance = 1.45872\n",
      "--- mydataset                : Variable var0-var1 variance = 4.95813\n",
      "--- mydataset                : Variable var0*var2 variance = 57.202\n",
      "--- mydataset                : Variable var1+var2 variance = 3.14537\n",
      "--- DataSetInfo              : Dataset[mydataset] : Added class \"Signal\"\t with internal class number 0\n",
      "--- mydataset                : Add Tree MyMCSig of type Signal with 5449 events\n",
      "--- DataSetInfo              : Dataset[mydataset] : Added class \"Background\"\t with internal class number 1\n",
      "--- mydataset                : Add Tree MyMCBkg of type Background with 5449 events\n",
      "--- mydataset                : Preparing trees for training and testing...\n",
      "--- mydataset                : Number of variables after transformation: 3\n"
     ]
    }
   ],
   "source": [
    "newloader = loader.VarTransform(\"VT(2.95)\")"
   ]
  },
  {
   "cell_type": "code",
   "execution_count": 5,
   "metadata": {
    "collapsed": false
   },
   "outputs": [
    {
     "name": "stdout",
     "output_type": "stream",
     "text": [
      "--- mydataset                : Transformation: VT\n",
      "--- mydataset                : Threshold value: 0\n",
      "--- DataSetFactory           : Dataset[mydataset] : Splitmode is: \"RANDOM\" the mixmode is: \"SAMEASSPLITMODE\"\n",
      "--- DataSetFactory           : Dataset[mydataset] : Create training and testing trees -- looping over class \"Signal\" ...\n",
      "--- DataSetFactory           : Dataset[mydataset] : Weight expression for class 'Signal': \"\"\n",
      "--- DataSetFactory           : Dataset[mydataset] : Create training and testing trees -- looping over class \"Background\" ...\n",
      "--- DataSetFactory           : Dataset[mydataset] : Weight expression for class 'Background': \"\"\n",
      "--- DataSetFactory           : Dataset[mydataset] : Number of events in input trees (after possible flattening of arrays):\n",
      "--- DataSetFactory           : Dataset[mydataset] :     Signal          -- number of events       : 5449   / sum of weights: 5449 \n",
      "--- DataSetFactory           : Dataset[mydataset] :     Background      -- number of events       : 5449   / sum of weights: 5449 \n",
      "--- DataSetFactory           : Dataset[mydataset] :     Signal     tree -- total number of entries: 5449 \n",
      "--- DataSetFactory           : Dataset[mydataset] :     Background tree -- total number of entries: 5449 \n",
      "--- DataSetFactory           : Dataset[mydataset] : Preselection: (will NOT affect number of requested training and testing events)\n",
      "--- DataSetFactory           : Dataset[mydataset] :     No preselection cuts applied on event classes\n",
      "--- DataSetFactory           : Dataset[mydataset] : Weight renormalisation mode: \"NumEvents\": renormalises all event classes \n",
      "--- DataSetFactory           : Dataset[mydataset] :  such that the effective (weighted) number of events in each class equals the respective \n",
      "--- DataSetFactory           : Dataset[mydataset] :  number of events (entries) that you demanded in PrepareTrainingAndTestTree(\"\",\"nTrain_Signal=.. )\n",
      "--- DataSetFactory           : Dataset[mydataset] :  ... i.e. such that Sum[i=1..N_j]{w_i} = N_j, j=0,1,2...\n",
      "--- DataSetFactory           : Dataset[mydataset] :  ... (note that N_j is the sum of TRAINING events (nTrain_j...with j=Signal,Background..\n",
      "--- DataSetFactory           : Dataset[mydataset] :  ..... Testing events are not renormalised nor included in the renormalisation factor! )\n",
      "--- DataSetFactory           : Dataset[mydataset] : --> Rescale Signal     event weights by factor: 1\n",
      "--- DataSetFactory           : Dataset[mydataset] : --> Rescale Background event weights by factor: 1\n",
      "--- DataSetFactory           : Dataset[mydataset] : Number of training and testing events after rescaling:\n",
      "--- DataSetFactory           : Dataset[mydataset] : ---------------------------------------------------------------------------\n",
      "--- DataSetFactory           : Dataset[mydataset] : Signal     -- training events            : 3000 (sum of weights: 3000) - requested were 3000 events\n",
      "--- DataSetFactory           : Dataset[mydataset] : Signal     -- testing events             : 1449 (sum of weights: 1449) - requested were 1449 events\n",
      "--- DataSetFactory           : Dataset[mydataset] : Signal     -- training and testing events: 4449 (sum of weights: 4449)\n",
      "--- DataSetFactory           : Dataset[mydataset] : Background -- training events            : 3000 (sum of weights: 3000) - requested were 3000 events\n",
      "--- DataSetFactory           : Dataset[mydataset] : Background -- testing events             : 1449 (sum of weights: 1449) - requested were 1449 events\n",
      "--- DataSetFactory           : Dataset[mydataset] : Background -- training and testing events: 4449 (sum of weights: 4449)\n",
      "--- DataSetFactory           : Dataset[mydataset] : Create internal training tree\n",
      "--- DataSetFactory           : Dataset[mydataset] : Create internal testing tree\n",
      "--- DataSetInfo              : Dataset[mydataset] : Correlation matrix (Signal):\n",
      "--- DataSetInfo              : ----------------------------------------\n",
      "--- DataSetInfo              :            var0-var1 var0*var2 var1+var2\n",
      "--- DataSetInfo              : var0-var1:    +1.000    +0.784    -0.425\n",
      "--- DataSetInfo              : var0*var2:    +0.784    +1.000    +0.192\n",
      "--- DataSetInfo              : var1+var2:    -0.425    +0.192    +1.000\n",
      "--- DataSetInfo              : ----------------------------------------\n",
      "--- DataSetInfo              : Dataset[mydataset] : Correlation matrix (Background):\n",
      "--- DataSetInfo              : ----------------------------------------\n",
      "--- DataSetInfo              :            var0-var1 var0*var2 var1+var2\n",
      "--- DataSetInfo              : var0-var1:    +1.000    +0.431    -0.561\n",
      "--- DataSetInfo              : var0*var2:    +0.431    +1.000    +0.471\n",
      "--- DataSetInfo              : var1+var2:    -0.561    +0.471    +1.000\n",
      "--- DataSetInfo              : ----------------------------------------\n",
      "--- DataSetFactory           : Dataset[mydataset] :  \n",
      "--- mydataset                : Number of events: 6000\n",
      "--- mydataset                : Number of variables before transformation: 3\n",
      "--- mydataset                : Variable var0-var1 variance = 4.95813\n",
      "--- mydataset                : Variable var0*var2 variance = 57.202\n",
      "--- mydataset                : Variable var1+var2 variance = 3.14537\n",
      "--- DataSetInfo              : Dataset[mydataset] : Added class \"Signal\"\t with internal class number 0\n",
      "--- mydataset                : Add Tree MyMCSig of type Signal with 5449 events\n",
      "--- DataSetInfo              : Dataset[mydataset] : Added class \"Background\"\t with internal class number 1\n",
      "--- mydataset                : Add Tree MyMCBkg of type Background with 5449 events\n",
      "--- mydataset                : Preparing trees for training and testing...\n",
      "--- mydataset                : Number of variables after transformation: 3\n"
     ]
    }
   ],
   "source": [
    "vars = newloader.GetDataSetInfo().G"
   ]
  },
  {
   "cell_type": "markdown",
   "metadata": {},
   "source": [
    "## Error Checks\n",
    "If parameter passed to VarTransform method doesn't follow the correct format as described in this section, error would be raised and program execution would abort. Following are some examples of incorrect format: "
   ]
  },
  {
   "cell_type": "code",
   "execution_count": 6,
   "metadata": {
    "collapsed": false
   },
   "outputs": [
    {
     "ename": "Exception",
     "evalue": "TMVA::DataLoader* TMVA::DataLoader::VarTransform(TString trafoDefinition) =>\n    FATAL error (C++ exception of type runtime_error)",
     "output_type": "error",
     "traceback": [
      "\u001b[0;31m\u001b[0m",
      "\u001b[0;31mException\u001b[0mTraceback (most recent call last)",
      "\u001b[0;32m<ipython-input-6-a781356fa6e1>\u001b[0m in \u001b[0;36m<module>\u001b[0;34m()\u001b[0m\n\u001b[0;32m----> 1\u001b[0;31m \u001b[0merrloader\u001b[0m \u001b[0;34m=\u001b[0m \u001b[0mmyloader\u001b[0m\u001b[0;34m.\u001b[0m\u001b[0mVarTransform\u001b[0m\u001b[0;34m(\u001b[0m\u001b[0;34m\"some_random_string\"\u001b[0m\u001b[0;34m)\u001b[0m\u001b[0;34m\u001b[0m\u001b[0m\n\u001b[0m",
      "\u001b[0;31mException\u001b[0m: TMVA::DataLoader* TMVA::DataLoader::VarTransform(TString trafoDefinition) =>\n    FATAL error (C++ exception of type runtime_error)"
     ]
    },
    {
     "name": "stdout",
     "output_type": "stream",
     "text": [
      "\u001b[37;41;1m--- <FATAL> mydataset                : Incorrect transformation string provided, please check\u001b[0m\n",
      "***> abort program execution\n"
     ]
    }
   ],
   "source": [
    "errloader = myloader.VarTransform(\"some_random_string\")"
   ]
  },
  {
   "cell_type": "code",
   "execution_count": 7,
   "metadata": {
    "collapsed": false
   },
   "outputs": [
    {
     "ename": "Exception",
     "evalue": "TMVA::DataLoader* TMVA::DataLoader::VarTransform(TString trafoDefinition) =>\n    FATAL error (C++ exception of type runtime_error)",
     "output_type": "error",
     "traceback": [
      "\u001b[0;31m\u001b[0m",
      "\u001b[0;31mException\u001b[0mTraceback (most recent call last)",
      "\u001b[0;32m<ipython-input-7-638dc0349ae4>\u001b[0m in \u001b[0;36m<module>\u001b[0;34m()\u001b[0m\n\u001b[0;32m----> 1\u001b[0;31m \u001b[0merrloader\u001b[0m \u001b[0;34m=\u001b[0m \u001b[0mmyloader\u001b[0m\u001b[0;34m.\u001b[0m\u001b[0mVarTransform\u001b[0m\u001b[0;34m(\u001b[0m\u001b[0;34m\"VT(incorrect_string)\"\u001b[0m\u001b[0;34m)\u001b[0m\u001b[0;34m\u001b[0m\u001b[0m\n\u001b[0m",
      "\u001b[0;31mException\u001b[0m: TMVA::DataLoader* TMVA::DataLoader::VarTransform(TString trafoDefinition) =>\n    FATAL error (C++ exception of type runtime_error)"
     ]
    },
    {
     "name": "stdout",
     "output_type": "stream",
     "text": [
      "\u001b[37;41;1m--- <FATAL> mydataset                : Incorrect transformation string provided, please check VT transformation must be passed a floating threshold value\u001b[0m\n",
      "***> abort program execution\n"
     ]
    }
   ],
   "source": [
    "errloader = myloader.VarTransform(\"VT(incorrect_string)\")"
   ]
  },
  {
   "cell_type": "markdown",
   "metadata": {},
   "source": [
    "## Book Methods"
   ]
  },
  {
   "cell_type": "code",
   "execution_count": 8,
   "metadata": {
    "collapsed": false,
    "scrolled": true
   },
   "outputs": [
    {
     "data": {
      "text/plain": [
       "<ROOT.TMVA::MethodMLP object (\"MLP\") at 0x7ff1f00c5a00>"
      ]
     },
     "execution_count": 8,
     "metadata": {},
     "output_type": "execute_result"
    },
    {
     "name": "stdout",
     "output_type": "stream",
     "text": [
      "--- Factory                  : Booking method: \u001b[1mBDT\u001b[0m DataSet Name: \u001b[1mmydataset\u001b[0m\n",
      "--- DataSetFactory           : Dataset[mydataset] : Splitmode is: \"RANDOM\" the mixmode is: \"SAMEASSPLITMODE\"\n",
      "--- DataSetFactory           : Dataset[mydataset] : Create training and testing trees -- looping over class \"Signal\" ...\n",
      "--- DataSetFactory           : Dataset[mydataset] : Weight expression for class 'Signal': \"\"\n",
      "--- DataSetFactory           : Dataset[mydataset] : Create training and testing trees -- looping over class \"Background\" ...\n",
      "--- DataSetFactory           : Dataset[mydataset] : Weight expression for class 'Background': \"\"\n",
      "--- DataSetFactory           : Dataset[mydataset] : Number of events in input trees (after possible flattening of arrays):\n",
      "--- DataSetFactory           : Dataset[mydataset] :     Signal          -- number of events       : 5449   / sum of weights: 5449 \n",
      "--- DataSetFactory           : Dataset[mydataset] :     Background      -- number of events       : 5449   / sum of weights: 5449 \n",
      "--- DataSetFactory           : Dataset[mydataset] :     Signal     tree -- total number of entries: 5449 \n",
      "--- DataSetFactory           : Dataset[mydataset] :     Background tree -- total number of entries: 5449 \n",
      "--- DataSetFactory           : Dataset[mydataset] : Preselection: (will NOT affect number of requested training and testing events)\n",
      "--- DataSetFactory           : Dataset[mydataset] :     No preselection cuts applied on event classes\n",
      "--- DataSetFactory           : Dataset[mydataset] : Weight renormalisation mode: \"NumEvents\": renormalises all event classes \n",
      "--- DataSetFactory           : Dataset[mydataset] :  such that the effective (weighted) number of events in each class equals the respective \n",
      "--- DataSetFactory           : Dataset[mydataset] :  number of events (entries) that you demanded in PrepareTrainingAndTestTree(\"\",\"nTrain_Signal=.. )\n",
      "--- DataSetFactory           : Dataset[mydataset] :  ... i.e. such that Sum[i=1..N_j]{w_i} = N_j, j=0,1,2...\n",
      "--- DataSetFactory           : Dataset[mydataset] :  ... (note that N_j is the sum of TRAINING events (nTrain_j...with j=Signal,Background..\n",
      "--- DataSetFactory           : Dataset[mydataset] :  ..... Testing events are not renormalised nor included in the renormalisation factor! )\n",
      "--- DataSetFactory           : Dataset[mydataset] : --> Rescale Signal     event weights by factor: 1\n",
      "--- DataSetFactory           : Dataset[mydataset] : --> Rescale Background event weights by factor: 1\n",
      "--- DataSetFactory           : Dataset[mydataset] : Number of training and testing events after rescaling:\n",
      "--- DataSetFactory           : Dataset[mydataset] : ---------------------------------------------------------------------------\n",
      "--- DataSetFactory           : Dataset[mydataset] : Signal     -- training events            : 3000 (sum of weights: 3000) - requested were 3000 events\n",
      "--- DataSetFactory           : Dataset[mydataset] : Signal     -- testing events             : 1449 (sum of weights: 1449) - requested were 1449 events\n",
      "--- DataSetFactory           : Dataset[mydataset] : Signal     -- training and testing events: 4449 (sum of weights: 4449)\n",
      "--- DataSetFactory           : Dataset[mydataset] : Background -- training events            : 3000 (sum of weights: 3000) - requested were 3000 events\n",
      "--- DataSetFactory           : Dataset[mydataset] : Background -- testing events             : 1449 (sum of weights: 1449) - requested were 1449 events\n",
      "--- DataSetFactory           : Dataset[mydataset] : Background -- training and testing events: 4449 (sum of weights: 4449)\n",
      "--- DataSetFactory           : Dataset[mydataset] : Create internal training tree\n",
      "--- DataSetFactory           : Dataset[mydataset] : Create internal testing tree\n",
      "--- DataSetInfo              : Dataset[mydataset] : Correlation matrix (Signal):\n",
      "--- DataSetInfo              : ----------------------------------------\n",
      "--- DataSetInfo              :            var0-var1 var0*var2 var1+var2\n",
      "--- DataSetInfo              : var0-var1:    +1.000    +0.784    -0.425\n",
      "--- DataSetInfo              : var0*var2:    +0.784    +1.000    +0.192\n",
      "--- DataSetInfo              : var1+var2:    -0.425    +0.192    +1.000\n",
      "--- DataSetInfo              : ----------------------------------------\n",
      "--- DataSetInfo              : Dataset[mydataset] : Correlation matrix (Background):\n",
      "--- DataSetInfo              : ----------------------------------------\n",
      "--- DataSetInfo              :            var0-var1 var0*var2 var1+var2\n",
      "--- DataSetInfo              : var0-var1:    +1.000    +0.431    -0.561\n",
      "--- DataSetInfo              : var0*var2:    +0.431    +1.000    +0.471\n",
      "--- DataSetInfo              : var1+var2:    -0.561    +0.471    +1.000\n",
      "--- DataSetInfo              : ----------------------------------------\n",
      "--- DataSetFactory           : Dataset[mydataset] :  \n",
      "--- Factory                  : Booking method: \u001b[1mMLP\u001b[0m DataSet Name: \u001b[1mmydataset\u001b[0m\n",
      "--- MLP                      : Dataset[mydataset] : Create Transformation \"N\" with events from all classes.\n",
      "--- Norm                     : Transformation, Variable selection : \n",
      "--- Norm                     : Input : variable 'var0-var1' (index=0).   <---> Output : variable 'var0-var1' (index=0).\n",
      "--- Norm                     : Input : variable 'var0*var2' (index=1).   <---> Output : variable 'var0*var2' (index=1).\n",
      "--- Norm                     : Input : variable 'var1+var2' (index=2).   <---> Output : variable 'var1+var2' (index=2).\n",
      "--- MLP                      : Building Network\n",
      "--- MLP                      : Initializing weights\n"
     ]
    }
   ],
   "source": [
    "# Boosted Decision Trees\n",
    "factory.BookMethod(myloader,\n",
    "                   TMVA.Types.kBDT,\n",
    "                   \"BDT\",\n",
    "                   \"!V:NTrees=5:MinNodeSize=2.5%:MaxDepth=2:BoostType=AdaBoost:AdaBoostBeta=0.5:UseBaggedBoost:BaggedSampleFraction=0.5:SeparationType=GiniIndex:nCuts=20\")\n",
    "\n",
    "# TMVA ANN: MLP Multilayer Perceptrons\n",
    "factory.BookMethod(myloader,\n",
    "                   TMVA.Types.kMLP,\n",
    "                   \"MLP\",\n",
    "                   \"!V:NeuronType=tanh:VarTransform=N:NCycles=150:HiddenLayers=N+5:TestRate=5:!UseRegulator\")"
   ]
  },
  {
   "cell_type": "markdown",
   "metadata": {},
   "source": [
    "## Training the Methods"
   ]
  },
  {
   "cell_type": "code",
   "execution_count": 9,
   "metadata": {
    "collapsed": false
   },
   "outputs": [
    {
     "name": "stdout",
     "output_type": "stream",
     "text": [
      "--- Factory                  :  \n",
      "--- Factory                  : Train all methods for Classification ...\n",
      "--- Factory                  : \n",
      "--- Factory                  : current transformation string: 'I'\n",
      "--- Factory                  : Dataset[mydataset] : Create Transformation \"I\" with events from all classes.\n",
      "--- Id                       : Transformation, Variable selection : \n",
      "--- Id                       : Input : variable 'var0-var1' (index=0).   <---> Output : variable 'var0-var1' (index=0).\n",
      "--- Id                       : Input : variable 'var0*var2' (index=1).   <---> Output : variable 'var0*var2' (index=1).\n",
      "--- Id                       : Input : variable 'var1+var2' (index=2).   <---> Output : variable 'var1+var2' (index=2).\n",
      "--- Id                       : Preparing the Identity transformation...\n",
      "--- TFHandler_Factory        : ----------------------------------------------------------------\n",
      "--- TFHandler_Factory        :  Variable         Mean         RMS   [        Min         Max ]\n",
      "--- TFHandler_Factory        : ----------------------------------------------------------------\n",
      "--- TFHandler_Factory        : var0-var1:     1.4940     2.2267   [    -4.4454     9.9615 ]\n",
      "--- TFHandler_Factory        : var0*var2:     10.832     7.5632   [ 0.00088366     48.220 ]\n",
      "--- TFHandler_Factory        : var1+var2:     5.0910     1.7735   [    0.14162     9.8702 ]\n",
      "--- TFHandler_Factory        : ----------------------------------------------------------------\n",
      "--- TFHandler_Factory        : Plot event variables for Id\n",
      "--- TFHandler_Factory        : Create scatter and profile plots in target-file directory: \n",
      "--- TFHandler_Factory        : VTOutput.root:/mydataset/InputVariables_Id/CorrelationPlots\n",
      "--- TFHandler_Factory        :  \n",
      "--- TFHandler_Factory        : Ranking input variables (method unspecific)...\n",
      "--- IdTransformation         : Ranking result (top variable is best ranked)\n",
      "--- IdTransformation         : ----------------------------------\n",
      "--- IdTransformation         : Rank : Variable  : Separation\n",
      "--- IdTransformation         : ----------------------------------\n",
      "--- IdTransformation         :    1 : var0-var1 : 2.738e-01\n",
      "--- IdTransformation         :    2 : var1+var2 : 5.815e-02\n",
      "--- IdTransformation         :    3 : var0*var2 : 5.589e-02\n",
      "--- IdTransformation         : ----------------------------------\n",
      "--- Factory                  : Train method: BDT for Classification\n",
      "--- BDT                      : Dataset[mydataset] : Begin training\n",
      "--- BDT                      :  found and suggest the following possible pre-selection cuts \n",
      "--- BDT                      : as option DoPreselection was not used, these cuts however will not be performed, but the training will see the full sample\n",
      "--- BDT                      :  found cut: Bkg if var 0 < -1.09749\n",
      "--- BDT                      : <InitEventSample> For classification trees, \n",
      "--- BDT                      :  the effective number of backgrounds is scaled to match \n",
      "--- BDT                      :  the signal. Othersise the first boosting step would do 'just that'!\n",
      "--- BDT                      : re-normlise events such that Sig and Bkg have respective sum of weights = 1\n",
      "--- BDT                      :   sig->sig*1ev. bkg->bkg*1ev.\n",
      "--- BDT                      : #events: (reweighted) sig: 3000 bkg: 3000\n",
      "--- BDT                      : #events: (unweighted) sig: 3000 bkg: 3000\n",
      "--- BDT                      : Training 5 Decision Trees ... patience please\n",
      "--- BinaryTree               : The minimal node size MinNodeSize=2.5 fMinNodeSize=2.5% is translated to an actual number of events = 76.175 for the training sample size of 3047\n",
      "--- BinaryTree               : Note: This number will be taken as absolute minimum in the node, \n",
      "--- BinaryTree               :       in terms of 'weighted events' and unweighted ones !! \n",
      "--- BDT                      : <Train> elapsed time: \u001b[1;31m0.00657 sec\u001b[0m                              \n",
      "--- BDT                      : <Train> average number of nodes (w/o pruning) : 3\n",
      "--- BDT                      : Dataset[mydataset] : End of training                                              \n",
      "--- BDT                      : Dataset[mydataset] : Elapsed time for training with 6000 events: \u001b[1;31m0.0202 sec\u001b[0m         \n",
      "--- BDT                      : Dataset[mydataset] : Create MVA output for Dataset[mydataset] : classification on training sample\n",
      "--- BDT                      : Dataset[mydataset] : Evaluation of BDT on training sample (6000 events)\n",
      "--- BDT                      : Dataset[mydataset] : Elapsed time for evaluation of 6000 events: \u001b[1;31m0.00226 sec\u001b[0m       \n",
      "--- BDT                      : Dataset[mydataset] : Creating weight file in xml format: \u001b[0;36mmydataset/weights/TMVAClassification_BDT.weights.xml\u001b[0m\n",
      "--- BDT                      : Dataset[mydataset] : Creating standalone response class: \u001b[0;36mmydataset/weights/TMVAClassification_BDT.class.C\u001b[0m\n",
      "--- BDT                      : VTOutput.root:/mydataset/Method_BDT/BDT\n",
      "--- Factory                  : Training finished\n",
      "--- Factory                  : Train method: MLP for Classification\n",
      "--- Norm                     : Preparing the transformation.\n",
      "--- TFHandler_MLP            : ----------------------------------------------------------------\n",
      "--- TFHandler_MLP            :  Variable         Mean         RMS   [        Min         Max ]\n",
      "--- TFHandler_MLP            : ----------------------------------------------------------------\n",
      "--- TFHandler_MLP            : var0-var1:   -0.17548    0.30911   [    -1.0000     1.0000 ]\n",
      "--- TFHandler_MLP            : var0*var2:   -0.55077    0.31370   [    -1.0000     1.0000 ]\n",
      "--- TFHandler_MLP            : var1+var2:   0.017481    0.36460   [    -1.0000     1.0000 ]\n",
      "--- TFHandler_MLP            : ----------------------------------------------------------------\n",
      "--- MLP                      : Dataset[mydataset] : Begin training\n",
      "--- MLP                      : Training Network\n",
      "--- MLP                      : Dataset[mydataset] : End of training                                              \n",
      "--- MLP                      : Dataset[mydataset] : Elapsed time for training with 6000 events: \u001b[1;31m3.13 sec\u001b[0m         \n",
      "--- MLP                      : Dataset[mydataset] : Create MVA output for Dataset[mydataset] : classification on training sample\n",
      "--- MLP                      : Dataset[mydataset] : Evaluation of MLP on training sample (6000 events)\n",
      "--- MLP                      : Dataset[mydataset] : Elapsed time for evaluation of 6000 events: \u001b[1;31m0.00741 sec\u001b[0m       \n",
      "--- MLP                      : Dataset[mydataset] : Creating weight file in xml format: \u001b[0;36mmydataset/weights/TMVAClassification_MLP.weights.xml\u001b[0m\n",
      "--- MLP                      : Dataset[mydataset] : Creating standalone response class: \u001b[0;36mmydataset/weights/TMVAClassification_MLP.class.C\u001b[0m\n",
      "--- MLP                      : Write special histos to file: VTOutput.root:/mydataset/Method_MLP/MLP\n",
      "--- Factory                  : Training finished\n",
      "--- Factory                  : \n",
      "--- Factory                  : Ranking input variables (method specific)...\n",
      "--- BDT                      : Ranking result (top variable is best ranked)\n",
      "--- BDT                      : -------------------------------------------\n",
      "--- BDT                      : Rank : Variable  : Variable Importance\n",
      "--- BDT                      : -------------------------------------------\n",
      "--- BDT                      :    1 : var0-var1 : 9.999e-01\n",
      "--- BDT                      :    2 : var1+var2 : 6.696e-05\n",
      "--- BDT                      :    3 : var0*var2 : 0.000e+00\n",
      "--- BDT                      : -------------------------------------------\n",
      "--- MLP                      : Ranking result (top variable is best ranked)\n",
      "--- MLP                      : ------------------------------------\n",
      "--- MLP                      : Rank : Variable    : Importance\n",
      "--- MLP                      : ------------------------------------\n",
      "--- MLP                      :    1 : var0_M_var1 : 3.003e+01\n",
      "--- MLP                      :    2 : var0_T_var2 : 1.624e+01\n",
      "--- MLP                      :    3 : var1_P_var2 : 6.609e+00\n",
      "--- MLP                      : ------------------------------------\n",
      "--- Factory                  : \n",
      "--- Factory                  : === Destroy and recreate all methods via weight files for testing ===\n",
      "--- Factory                  : \n",
      "--- MethodBase               : Dataset[mydataset] : Reading weight file: \u001b[0;36mmydataset/weights/TMVAClassification_BDT.weights.xml\u001b[0m\n",
      "--- BDT                      : Dataset[mydataset] : Read method \"BDT\" of type \"BDT\"\n",
      "--- BDT                      : Dataset[mydataset] : MVA method was trained with TMVA Version: 4.2.1\n",
      "--- BDT                      : Dataset[mydataset] : MVA method was trained with ROOT Version: 6.07/07\n",
      "--- MethodBase               : Dataset[mydataset] : Reading weight file: \u001b[0;36mmydataset/weights/TMVAClassification_MLP.weights.xml\u001b[0m\n",
      "--- MLP                      : Dataset[mydataset] : Read method \"MLP\" of type \"MLP\"\n",
      "--- MLP                      : Dataset[mydataset] : MVA method was trained with TMVA Version: 4.2.1\n",
      "--- MLP                      : Dataset[mydataset] : MVA method was trained with ROOT Version: 6.07/07\n",
      "--- MLP                      : Building Network\n",
      "--- MLP                      : Initializing weights\n"
     ]
    }
   ],
   "source": [
    "factory.TrainAllMethods()"
   ]
  },
  {
   "cell_type": "markdown",
   "metadata": {},
   "source": [
    "## Testing and Evaluating the data"
   ]
  },
  {
   "cell_type": "code",
   "execution_count": 10,
   "metadata": {
    "collapsed": false,
    "scrolled": true
   },
   "outputs": [
    {
     "name": "stdout",
     "output_type": "stream",
     "text": [
      "--- Factory                  : Test all methods...\n",
      "--- Factory                  : Test method: BDT for Classification performance\n",
      "--- BDT                      : Dataset[mydataset] : Evaluation of BDT on testing sample (2898 events)\n",
      "--- BDT                      : Dataset[mydataset] : Elapsed time for evaluation of 2898 events: \u001b[1;31m0.00127 sec\u001b[0m       \n",
      "--- Factory                  : Test method: MLP for Classification performance\n",
      "--- MLP                      : Dataset[mydataset] : Evaluation of MLP on testing sample (2898 events)\n",
      "--- MLP                      : Dataset[mydataset] : Elapsed time for evaluation of 2898 events: \u001b[1;31m0.00458 sec\u001b[0m       \n",
      "--- Factory                  : Evaluate all methods...\n",
      "--- Factory                  : Evaluate classifier: BDT\n",
      "--- BDT                      : Dataset[mydataset] : Loop over test events and fill histograms with classifier response...\n",
      "--- Factory                  : Write evaluation histograms to file\n",
      "--- TFHandler_BDT            : Plot event variables for BDT\n",
      "--- TFHandler_BDT            : ----------------------------------------------------------------\n",
      "--- TFHandler_BDT            :  Variable         Mean         RMS   [        Min         Max ]\n",
      "--- TFHandler_BDT            : ----------------------------------------------------------------\n",
      "--- TFHandler_BDT            : var0-var1:     1.4044     2.1855   [    -4.0521     9.9031 ]\n",
      "--- TFHandler_BDT            : var0*var2:     10.577     7.4095   [ 0.00097392     48.593 ]\n",
      "--- TFHandler_BDT            : var1+var2:     5.1112     1.8209   [    0.17973     9.9030 ]\n",
      "--- TFHandler_BDT            : ----------------------------------------------------------------\n",
      "--- TFHandler_BDT            : Create scatter and profile plots in target-file directory: \n",
      "--- TFHandler_BDT            : VTOutput.root:/mydataset/Method_BDT/BDT/CorrelationPlots\n",
      "--- Factory                  : Evaluate classifier: MLP\n",
      "--- TFHandler_MLP            : ----------------------------------------------------------------\n",
      "--- TFHandler_MLP            :  Variable         Mean         RMS   [        Min         Max ]\n",
      "--- TFHandler_MLP            : ----------------------------------------------------------------\n",
      "--- TFHandler_MLP            : var0-var1:   -0.18793    0.30339   [   -0.94541    0.99189 ]\n",
      "--- TFHandler_MLP            : var0*var2:   -0.56133    0.30733   [    -1.0000     1.0155 ]\n",
      "--- TFHandler_MLP            : var1+var2:   0.021649    0.37434   [   -0.99217     1.0067 ]\n",
      "--- TFHandler_MLP            : ----------------------------------------------------------------\n",
      "--- MLP                      : Dataset[mydataset] : Loop over test events and fill histograms with classifier response...\n",
      "--- Factory                  : Write evaluation histograms to file\n",
      "--- TFHandler_MLP            : Plot event variables for MLP\n",
      "--- TFHandler_MLP            : ----------------------------------------------------------------\n",
      "--- TFHandler_MLP            :  Variable         Mean         RMS   [        Min         Max ]\n",
      "--- TFHandler_MLP            : ----------------------------------------------------------------\n",
      "--- TFHandler_MLP            : var0-var1:   -0.18793    0.30339   [   -0.94541    0.99189 ]\n",
      "--- TFHandler_MLP            : var0*var2:   -0.56133    0.30733   [    -1.0000     1.0155 ]\n",
      "--- TFHandler_MLP            : var1+var2:   0.021649    0.37434   [   -0.99217     1.0067 ]\n",
      "--- TFHandler_MLP            : ----------------------------------------------------------------\n",
      "--- TFHandler_MLP            : Create scatter and profile plots in target-file directory: \n",
      "--- TFHandler_MLP            : VTOutput.root:/mydataset/Method_MLP/MLP/CorrelationPlots\n",
      "--- Factory                  : \n",
      "--- Factory                  : Evaluation results ranked by best signal efficiency and purity (area)\n",
      "--- Factory                  : -------------------------------------------------------------------------------------------------------------------\n",
      "--- Factory                  : DataSet              MVA              Signal efficiency at bkg eff.(error):                | Sepa-    Signifi- \n",
      "--- Factory                  : Name:                Method:          @B=0.01    @B=0.10    @B=0.30    ROC-integ    ROCCurve| ration:  cance:   \n",
      "--- Factory                  : -------------------------------------------------------------------------------------------------------------------\n",
      "--- Factory                  : mydataset            MLP            : 0.140(09)  0.506(13)  0.789(10)    0.828       0.828 | 0.339    0.983\n",
      "--- Factory                  : mydataset            BDT            : 0.000(00)  0.000(00)  0.662(12)    0.704       0.741 | 0.239    0.732\n",
      "--- Factory                  : -------------------------------------------------------------------------------------------------------------------\n",
      "--- Factory                  : \n",
      "--- Factory                  : Testing efficiency compared to training efficiency (overtraining check)\n",
      "--- Factory                  : -------------------------------------------------------------------------------------------------------------------\n",
      "--- Factory                  : DataSet              MVA              Signal efficiency: from test sample (from training sample) \n",
      "--- Factory                  : Name:                Method:          @B=0.01             @B=0.10            @B=0.30   \n",
      "--- Factory                  : -------------------------------------------------------------------------------------------------------------------\n",
      "--- Factory                  : mydataset            MLP            : 0.140 (0.216)       0.506 (0.542)      0.789 (0.805)\n",
      "--- Factory                  : mydataset            BDT            : 0.000 (0.000)       0.000 (0.000)      0.662 (0.663)\n",
      "--- Factory                  : -------------------------------------------------------------------------------------------------------------------\n",
      "--- Factory                  : \n",
      "--- Dataset:mydataset        : Dataset[mydataset] : Created tree 'TestTree' with 2898 events\n",
      "--- Dataset:mydataset        : Dataset[mydataset] : Created tree 'TrainTree' with 6000 events\n",
      "--- Factory                  :   \n",
      "--- Factory                  : \u001b[1mThank you for using TMVA!\u001b[0m\n",
      "--- Factory                  : \u001b[1mFor citation information, please visit: http://tmva.sf.net/citeTMVA.html\u001b[0m\n"
     ]
    }
   ],
   "source": [
    "factory.TestAllMethods()\n",
    "\n",
    "factory.EvaluateAllMethods()"
   ]
  },
  {
   "cell_type": "markdown",
   "metadata": {},
   "source": [
    "## Ploting ROC Curve"
   ]
  },
  {
   "cell_type": "code",
   "execution_count": 11,
   "metadata": {
    "collapsed": false
   },
   "outputs": [
    {
     "name": "stdout",
     "output_type": "stream",
     "text": [
      "==> TMVAClassification is done!\n"
     ]
    },
    {
     "name": "stderr",
     "output_type": "stream",
     "text": [
      "The TBufferJSON class is necessary for JS visualisation to work and cannot be found. Did you enable the http module (-D http=ON for CMake)?\n"
     ]
    },
    {
     "data": {
      "image/png": "[encoded data removed]",
      "text/plain": [
       "<IPython.core.display.Image object>"
      ]
     },
     "metadata": {},
     "output_type": "display_data"
    }
   ],
   "source": [
    "c = factory.GetROCCurve(myloader)\n",
    "c.Draw()\n",
    "print \"==> TMVAClassification is done!\"\n",
    "outputFile.Close()"
   ]
  }
 ],
 "metadata": {
  "kernelspec": {
   "display_name": "Python 2",
   "language": "python",
   "name": "python2"
  },
  "language_info": {
   "codemirror_mode": {
    "name": "ipython",
    "version": 2
   },
   "file_extension": ".py",
   "mimetype": "text/x-python",
   "name": "python",
   "nbconvert_exporter": "python",
   "pygments_lexer": "ipython2",
   "version": "2.7.10"
  }
 },
 "nbformat": 4,
 "nbformat_minor": 0
}
