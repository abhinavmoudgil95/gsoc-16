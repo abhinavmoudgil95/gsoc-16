{
 "cells": [
  {
   "cell_type": "markdown",
   "metadata": {},
   "source": [
    "<img src=\"http://oproject.org/tiki-download_file.php?fileId=8&display&x=450&y=128\">\n",
    "<img src=\"http://gfif.udea.edu.co/root/tmva/img/tmva_logo.gif\">\n",
    "\n",
    "# Variance Threshold Transformation\n",
    "<hr style=\"border-top-width: 4px; border-top-color: #34609b;\"> "
   ]
  },
  {
   "cell_type": "markdown",
   "metadata": {},
   "source": [
    "## Introduction\n",
    "\n",
    "In high energy physics and machine learning problems, we often encounter data which have large number of input variables. However to extract maximum information from the data, we need to select the relevant input variables for the multivariate classification and regression methods implemented in TMVA. Variance Threshold is a simple unsupervised variable selection method which automates this process. \n",
    "\n",
    "It computes weighted variance $\\sigma^2_V$ for each variable $V$ and ignores the ones whose variance doesn't meet a specific threshold. Weighted variance for each variable is defined as follows: \n",
    "$$\\sigma^2_V = \\frac{\\sum_{i=1}^N w_i (x_i - \\mu_V)^2}{\\sum_{i=1}^N w_i}$$\n",
    "\n",
    "where $N$ is the number of events in a dataset, $x_i$ denotes the value of variable for the $i$th event, $w_i$ is the weight of each event and $\\mu_V$ denotes the weighted mean of variable. \n",
    "$$\\mu_V = \\frac{\\sum_{i=1}^N w_i x_i}{\\sum_{i=1}^N w_i}$$\n",
    "\n",
    "A threshold $T$ for variance can be set by user otherwise default value of threshold is zero i.e. remove the variables which have same value in all the events. We get a new set of variables $S$ which can be formally defined as: \n",
    "\n",
    "$$S = \\{V  \\mid \\sigma^2_V > T \\}$$"
   ]
  },
  {
   "cell_type": "code",
   "execution_count": 1,
   "metadata": {
    "collapsed": false
   },
   "outputs": [
    {
     "data": {
      "application/javascript": [
       "\n",
       "require(['notebook'],\n",
       "  function() {\n",
       "    IPython.CodeCell.config_defaults.highlight_modes['magic_text/x-c++src'] = {'reg':[/^%%cpp/]};\n",
       "    console.log(\"JupyROOT - %%cpp magic configured\");\n",
       "  }\n",
       ");\n"
      ]
     },
     "metadata": {},
     "output_type": "display_data"
    },
    {
     "name": "stdout",
     "output_type": "stream",
     "text": [
      "Welcome to JupyROOT 6.07/07\n"
     ]
    }
   ],
   "source": [
    "from ROOT import TCanvas, TPad, TFile, TPaveText\n",
    "from ROOT import gBenchmark, gStyle, gROOT"
   ]
  },
  {
   "cell_type": "markdown",
   "metadata": {},
   "source": [
    "## Data Generation "
   ]
  },
  {
   "cell_type": "code",
   "execution_count": 2,
   "metadata": {
    "collapsed": false,
    "scrolled": true
   },
   "outputs": [],
   "source": [
    "# from ROOT import gROOT, TCanvas, TF1\n",
    "# %jsroot\n",
    "# gROOT.Reset()\n",
    "# c1 = TCanvas( 'c1', 'Example with Formula', 200, 10, 700, 500 )\n",
    "# c1.Draw()\n",
    "# #\n",
    "# # Create a one dimensional function and draw it\n",
    "# #\n",
    "# fun1 = TF1( 'fun1', 'abs(sin(x)/x)', 0, 10 )\n",
    "# c1.SetGridx()\n",
    "# c1.SetGridy()\n",
    "# fun1.Draw()"
   ]
  },
  {
   "cell_type": "code",
   "execution_count": 1,
   "metadata": {
    "collapsed": false
   },
   "outputs": [
    {
     "data": {
      "application/javascript": [
       "\n",
       "require(['notebook'],\n",
       "  function() {\n",
       "    IPython.CodeCell.config_defaults.highlight_modes['magic_text/x-c++src'] = {'reg':[/^%%cpp/]};\n",
       "    console.log(\"JupyROOT - %%cpp magic configured\");\n",
       "  }\n",
       ");\n"
      ]
     },
     "metadata": {},
     "output_type": "display_data"
    },
    {
     "name": "stdout",
     "output_type": "stream",
     "text": [
      "Welcome to JupyROOT 6.07/07\n"
     ]
    }
   ],
   "source": [
    "import ROOT"
   ]
  },
  {
   "cell_type": "code",
   "execution_count": 2,
   "metadata": {
    "collapsed": true
   },
   "outputs": [],
   "source": [
    "filename = \"hsimple.root\"\n",
    "hfile = ROOT.TFile(filename,\"RECREATE\",\"Demo ROOT file with histograms\")"
   ]
  },
  {
   "cell_type": "code",
   "execution_count": 3,
   "metadata": {
    "collapsed": true
   },
   "outputs": [],
   "source": [
    "hpx = ROOT.TH1F(\"hpx\",\"This is the px distribution\",64,-4,4)\n",
    "hpxpy = ROOT.TH2F(\"hpxpy\",\"py vs px\",64,-4,4,64,-4,4)\n",
    "hprof = ROOT.TProfile(\"hprof\",\"Profile of pz versus px\",64,-4,4,0,20)\n",
    "ntuple = ROOT.TNtuple(\"ntuple\",\"Demo ntuple\",\"px:py:pz:random:i\")"
   ]
  },
  {
   "cell_type": "code",
   "execution_count": 4,
   "metadata": {
    "collapsed": false
   },
   "outputs": [],
   "source": [
    "c1 = ROOT.TCanvas(\"c1\",\"Filling Example\",800,600)"
   ]
  },
  {
   "cell_type": "code",
   "execution_count": 5,
   "metadata": {
    "collapsed": false
   },
   "outputs": [
    {
     "name": "stdout",
     "output_type": "stream",
     "text": [
      "hsimple   : Real Time =   0.51 seconds Cpu Time =   0.54 seconds\n"
     ]
    }
   ],
   "source": [
    "benchmarkName = \"hsimple\"\n",
    "ROOT.gBenchmark.Start(benchmarkName)\n",
    "\n",
    "r = ROOT.TRandom3()\n",
    "rD = ROOT.Double\n",
    "px, py, pz = rD(0.), rD(0.), rD(0.)\n",
    "for i in range(50000):\n",
    "    r.Rannor(px,py)\n",
    "    pz = px*px + py*py\n",
    "    rnd = r.Rndm()\n",
    "    hpx.Fill(px)\n",
    "    hpxpy.Fill(px,py)\n",
    "    hprof.Fill(px,pz)\n",
    "    ntuple.Fill(px,py,pz,rnd,i)\n",
    "\n",
    "ROOT.gBenchmark.Show(benchmarkName)"
   ]
  },
  {
   "cell_type": "code",
   "execution_count": 6,
   "metadata": {
    "collapsed": false
   },
   "outputs": [
    {
     "name": "stdout",
     "output_type": "stream",
     "text": [
      "Bytes written: 6973\n"
     ]
    }
   ],
   "source": [
    "hpx.SetFillColor(0)\n",
    "print \"Bytes written:\", hfile.Write()"
   ]
  },
  {
   "cell_type": "code",
   "execution_count": 7,
   "metadata": {
    "collapsed": false
   },
   "outputs": [
    {
     "data": {
      "image/png": "[encoded data removed]",
      "text/plain": [
       "<IPython.core.display.Image object>"
      ]
     },
     "metadata": {},
     "output_type": "display_data"
    }
   ],
   "source": [
    "hpx.SetFillColor(ROOT.kBlue-10)\n",
    "hpx.SetLineColor(ROOT.kBlue)\n",
    "hpx.Draw()\n",
    "c1.Draw()"
   ]
  },
  {
   "cell_type": "code",
   "execution_count": null,
   "metadata": {
    "collapsed": true
   },
   "outputs": [],
   "source": []
  }
 ],
 "metadata": {
  "kernelspec": {
   "display_name": "Python 2",
   "language": "python",
   "name": "python2"
  },
  "language_info": {
   "codemirror_mode": {
    "name": "ipython",
    "version": 2
   },
   "file_extension": ".py",
   "mimetype": "text/x-python",
   "name": "python",
   "nbconvert_exporter": "python",
   "pygments_lexer": "ipython2",
   "version": "2.7.10"
  }
 },
 "nbformat": 4,
 "nbformat_minor": 0
}
