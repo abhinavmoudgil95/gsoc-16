{
 "cells": [
  {
   "cell_type": "markdown",
   "metadata": {},
   "source": [
    "<img src=\"http://oproject.org/tiki-download_file.php?fileId=8&display&x=450&y=128\" width=\"200\" height=\"200\">\n",
    "<img src=\"http://gfif.udea.edu.co/root/tmva/img/tmva_logo.gif\" width=\"200\" height=\"200\">\n",
    "\n",
    "# Autoencoder Variable Transformation\n",
    "<hr style=\"border-top-width: 4px; border-top-color: #34609b;\"> "
   ]
  },
  {
   "cell_type": "markdown",
   "metadata": {},
   "source": [
    "## Initialize DataLoader and Factory "
   ]
  },
  {
   "cell_type": "code",
   "execution_count": 1,
   "metadata": {
    "collapsed": false
   },
   "outputs": [
    {
     "name": "stdout",
     "output_type": "stream",
     "text": [
      "--- Factory                  : You are running ROOT Version: 6.07/07, Apr 1, 2016\n",
      "--- Factory                  : \n",
      "--- Factory                  : _/_/_/_/_/ _|      _|  _|      _|    _|_|   \n",
      "--- Factory                  :    _/      _|_|  _|_|  _|      _|  _|    _| \n",
      "--- Factory                  :   _/       _|  _|  _|  _|      _|  _|_|_|_| \n",
      "--- Factory                  :  _/        _|      _|    _|  _|    _|    _| \n",
      "--- Factory                  : _/         _|      _|      _|      _|    _| \n",
      "--- Factory                  : \n",
      "--- Factory                  : ___________TMVA Version 4.2.1, Feb 5, 2015\n",
      "--- Factory                  : \n"
     ]
    }
   ],
   "source": [
    "TMVA::Tools::Instance();\n",
    "TString path = \"../datasets/higgs-dataset.root\";\n",
    "if (gSystem->AccessPathName( path ))  // file does not exist in local directory\n",
    "        gSystem->Exec(\"curl -O http://files.oproject.org/root/tmva/datasets/higgs/higgs-dataset.root\");\n",
    "TFile *input = TFile::Open( path );\n",
    "TMVA::DataLoader *loader2=new TMVA::DataLoader(\"higgs-dataset\");\n",
    "TTree *Tsignal     = (TTree*)input->Get(\"TreeS\");\n",
    "TTree *Tbackground = (TTree*)input->Get(\"TreeB\");\n",
    "TString outfileName( \"higgs_output.root\" );\n",
    "TFile* outputFile = TFile::Open( outfileName, \"RECREATE\" );\n",
    "TMVA::Factory *factory = new TMVA::Factory( \"TMVAClassification\", outputFile,\n",
    "            \"!V:!Silent:Color:DrawProgressBar:AnalysisType=Classification\" );"
   ]
  },
  {
   "cell_type": "markdown",
   "metadata": {},
   "source": [
    "## Setup DataLoader"
   ]
  },
  {
   "cell_type": "code",
   "execution_count": 2,
   "metadata": {
    "collapsed": true
   },
   "outputs": [],
   "source": [
    "loader2->AddVariable(\"lepton_pT\",'F');\n",
    "loader2->AddVariable(\"lepton_eta\",'F');\n",
    "loader2->AddVariable(\"lepton_phi\",'F');\n",
    "loader2->AddVariable(\"missing_energy_magnitude\",'F');\n",
    "loader2->AddVariable(\"missing_energy_phi\",'F');\n",
    "loader2->AddVariable(\"jet_1_pt\",'F');\n",
    "loader2->AddVariable(\"jet_1_eta\",'F');\n",
    "loader2->AddVariable(\"jet_1_phi\",'F');\n",
    "loader2->AddVariable(\"jet_1_b_tag\",'F');\n",
    "loader2->AddVariable(\"jet_2_pt\",'F');\n",
    "loader2->AddVariable(\"jet_2_eta\",'F');\n",
    "loader2->AddVariable(\"jet_2_phi\",'F');\n",
    "loader2->AddVariable(\"jet_2_b_tag\",'F');\n",
    "loader2->AddVariable(\"jet_3_pt\",'F');\n",
    "loader2->AddVariable(\"jet_3_eta\",'F');\n",
    "loader2->AddVariable(\"jet_3_phi\",'F');\n",
    "loader2->AddVariable(\"jet_3_b_tag\",'F');\n",
    "loader2->AddVariable(\"jet_4_pt\",'F');\n",
    "loader2->AddVariable(\"jet_4_eta\",'F');\n",
    "loader2->AddVariable(\"jet_4_phi\",'F');\n",
    "loader2->AddVariable(\"jet_4_b_tag\",'F');\n",
    "loader2->AddVariable(\"m_jj\",'F');\n",
    "loader2->AddVariable(\"m_jjj\",'F');\n",
    "loader2->AddVariable(\"m_lv\",'F');\n",
    "loader2->AddVariable(\"m_jlv\",'F');\n",
    "loader2->AddVariable(\"m_bb\",'F');\n",
    "loader2->AddVariable(\"m_wbb\",'F');\n",
    "loader2->AddVariable(\"m_wwbb\",'F');"
   ]
  },
  {
   "cell_type": "markdown",
   "metadata": {},
   "source": [
    "## Setup DataLoader "
   ]
  },
  {
   "cell_type": "code",
   "execution_count": 3,
   "metadata": {
    "collapsed": false
   },
   "outputs": [
    {
     "name": "stdout",
     "output_type": "stream",
     "text": [
      "--- DataSetInfo              : Dataset[higgs-dataset] : Added class \"Signal\"\t with internal class number 0\n",
      "--- higgs-dataset            : Add Tree TreeS of type Signal with 5829123 events\n",
      "--- DataSetInfo              : Dataset[higgs-dataset] : Added class \"Background\"\t with internal class number 1\n",
      "--- higgs-dataset            : Add Tree TreeB of type Background with 5170877 events\n",
      "--- higgs-dataset            : Preparing trees for training and testing...\n"
     ]
    }
   ],
   "source": [
    "Double_t signalWeight     = 1.0;\n",
    "Double_t backgroundWeight = 1.0;\n",
    "loader2->AddSignalTree    ( Tsignal,     signalWeight     );\n",
    "loader2->AddBackgroundTree( Tbackground, backgroundWeight );\n",
    "TCut myCuts = \"\"; \n",
    "TCut myCutb = \"\";\n",
    "loader2->PrepareTrainingAndTestTree( myCuts, myCutb,\n",
    "                                         \"nTrain_Signal=1829123:nTrain_Background=1170877:nTest_Signal=4000000:nTest_Background=4000000:SplitMode=Random:NormMode=NumEvents:!V\" );"
   ]
  },
  {
   "cell_type": "markdown",
   "metadata": {},
   "source": [
    "## Get Dataset Info"
   ]
  },
  {
   "cell_type": "code",
   "execution_count": 4,
   "metadata": {
    "collapsed": false
   },
   "outputs": [],
   "source": [
    "// calculates min, max, mean, RMS and variance of all variables\n",
    "// loader2->CalcNorm();"
   ]
  },
  {
   "cell_type": "markdown",
   "metadata": {},
   "source": [
    "## Setup Neural Network"
   ]
  },
  {
   "cell_type": "code",
   "execution_count": 5,
   "metadata": {
    "collapsed": true
   },
   "outputs": [],
   "source": [
    "TString layoutString (\"Layout=TANH|100,TANH|50,TANH|10,LINEAR\");\n",
    "TString training0 (\"LearningRate=1e-1,Momentum=0.0,Repetitions=1,ConvergenceSteps=300,BatchSize=20,TestRepetitions=15,WeightDecay=0.001,Regularization=NONE,DropConfig=0.0+0.5+0.5+0.5,DropRepetitions=1,Multithreading=True\");\n",
    "TString training1 (\"LearningRate=1e-2,Momentum=0.5,Repetitions=1,ConvergenceSteps=300,BatchSize=30,TestRepetitions=7,WeightDecay=0.001,Regularization=L2,Multithreading=True,DropConfig=0.0+0.1+0.1+0.1,DropRepetitions=1\");\n",
    "TString training2 (\"LearningRate=1e-2,Momentum=0.3,Repetitions=1,ConvergenceSteps=300,BatchSize=40,TestRepetitions=7,WeightDecay=0.0001,Regularization=L2,Multithreading=True\");\n",
    "TString training3 (\"LearningRate=1e-3,Momentum=0.1,Repetitions=1,ConvergenceSteps=200,BatchSize=70,TestRepetitions=7,WeightDecay=0.0001,Regularization=NONE,Multithreading=True\");\n",
    "\n",
    "TString trainingStrategyString (\"TrainingStrategy=\");\n",
    "trainingStrategyString += training0 + \"|\" + training1 + \"|\" + training2 + \"|\" + training3;\n",
    "TString nnOptions (\"AE(!H:V:ErrorStrategy=CROSSENTROPY:VarTransform=G:WeightInitialization=XAVIERUNIFORM\");\n",
    "nnOptions.Append (\":\");\n",
    "nnOptions.Append (layoutString);\n",
    "nnOptions.Append (\":\");\n",
    "nnOptions.Append (trainingStrategyString);\n",
    "nnOptions.Append (\")\");"
   ]
  },
  {
   "cell_type": "code",
   "execution_count": null,
   "metadata": {
    "collapsed": false
   },
   "outputs": [
    {
     "name": "stdout",
     "output_type": "stream",
     "text": [
      "AE(!H:V:ErrorStrategy=CROSSENTROPY:VarTransform=G:WeightInitialization=XAVIERUNIFORM:Layout=TANH|100,TANH|50,TANH|10,LINEAR:TrainingStrategy=LearningRate=1e-1,Momentum=0.0,Repetitions=1,ConvergenceSteps=300,BatchSize=20,TestRepetitions=15,WeightDecay=0.001,Regularization=NONE,DropConfig=0.0+0.5+0.5+0.5,DropRepetitions=1,Multithreading=True|LearningRate=1e-2,Momentum=0.5,Repetitions=1,ConvergenceSteps=300,BatchSize=30,TestRepetitions=7,WeightDecay=0.001,Regularization=L2,Multithreading=True,DropConfig=0.0+0.1+0.1+0.1,DropRepetitions=1|LearningRate=1e-2,Momentum=0.3,Repetitions=1,ConvergenceSteps=300,BatchSize=40,TestRepetitions=7,WeightDecay=0.0001,Regularization=L2,Multithreading=True|LearningRate=1e-3,Momentum=0.1,Repetitions=1,ConvergenceSteps=200,BatchSize=70,TestRepetitions=7,WeightDecay=0.0001,Regularization=NONE,Multithreading=True)\n"
     ]
    }
   ],
   "source": [
    "// print nnOptions string \n",
    "cout << nnOptions.Data() << endl;"
   ]
  },
  {
   "cell_type": "markdown",
   "metadata": {},
   "source": [
    "## Apply Autoencoder Transform"
   ]
  },
  {
   "cell_type": "code",
   "execution_count": null,
   "metadata": {
    "collapsed": false
   },
   "outputs": [
    {
     "name": "stdout",
     "output_type": "stream",
     "text": [
      "--- higgs-dataset            : Train method: DNN for Classification\n",
      "--- DataSetFactory           : Dataset[higgs-dataset] : Splitmode is: \"RANDOM\" the mixmode is: \"SAMEASSPLITMODE\"\n",
      "--- DataSetFactory           : Dataset[higgs-dataset] : Create training and testing trees -- looping over class \"Signal\" ...\n",
      "--- DataSetFactory           : Dataset[higgs-dataset] : Weight expression for class 'Signal': \"\"\n",
      "--- DataSetFactory           : Dataset[higgs-dataset] : Create training and testing trees -- looping over class \"Background\" ...\n",
      "--- DataSetFactory           : Dataset[higgs-dataset] : Weight expression for class 'Background': \"\"\n",
      "--- DataSetFactory           : Dataset[higgs-dataset] : Number of events in input trees (after possible flattening of arrays):\n",
      "--- DataSetFactory           : Dataset[higgs-dataset] :     Signal          -- number of events       : 5829123  / sum of weights: 5.82912e+06\n",
      "--- DataSetFactory           : Dataset[higgs-dataset] :     Background      -- number of events       : 5170877  / sum of weights: 5.17088e+06\n",
      "--- DataSetFactory           : Dataset[higgs-dataset] :     Signal     tree -- total number of entries: 5829123\n",
      "--- DataSetFactory           : Dataset[higgs-dataset] :     Background tree -- total number of entries: 5170877\n",
      "--- DataSetFactory           : Dataset[higgs-dataset] : Preselection: (will NOT affect number of requested training and testing events)\n",
      "--- DataSetFactory           : Dataset[higgs-dataset] :     No preselection cuts applied on event classes\n",
      "--- DataSetFactory           : Dataset[higgs-dataset] : Weight renormalisation mode: \"NumEvents\": renormalises all event classes \n",
      "--- DataSetFactory           : Dataset[higgs-dataset] :  such that the effective (weighted) number of events in each class equals the respective \n",
      "--- DataSetFactory           : Dataset[higgs-dataset] :  number of events (entries) that you demanded in PrepareTrainingAndTestTree(\"\",\"nTrain_Signal=.. )\n",
      "--- DataSetFactory           : Dataset[higgs-dataset] :  ... i.e. such that Sum[i=1..N_j]{w_i} = N_j, j=0,1,2...\n",
      "--- DataSetFactory           : Dataset[higgs-dataset] :  ... (note that N_j is the sum of TRAINING events (nTrain_j...with j=Signal,Background..\n",
      "--- DataSetFactory           : Dataset[higgs-dataset] :  ..... Testing events are not renormalised nor included in the renormalisation factor! )\n",
      "--- DataSetFactory           : Dataset[higgs-dataset] : --> Rescale Signal     event weights by factor: 1\n",
      "--- DataSetFactory           : Dataset[higgs-dataset] : --> Rescale Background event weights by factor: 1\n",
      "--- DataSetFactory           : Dataset[higgs-dataset] : Number of training and testing events after rescaling:\n",
      "--- DataSetFactory           : Dataset[higgs-dataset] : ---------------------------------------------------------------------------\n",
      "--- DataSetFactory           : Dataset[higgs-dataset] : Signal     -- training events            : 1829123 (sum of weights: 1.82912e+06) - requested were 1829123 events\n",
      "--- DataSetFactory           : Dataset[higgs-dataset] : Signal     -- testing events             : 4000000 (sum of weights: 4e+06) - requested were 4000000 events\n",
      "--- DataSetFactory           : Dataset[higgs-dataset] : Signal     -- training and testing events: 5829123 (sum of weights: 5.82912e+06)\n",
      "--- DataSetFactory           : Dataset[higgs-dataset] : Background -- training events            : 1170877 (sum of weights: 1.17088e+06) - requested were 1170877 events\n",
      "--- DataSetFactory           : Dataset[higgs-dataset] : Background -- testing events             : 4000000 (sum of weights: 4e+06) - requested were 4000000 events\n",
      "--- DataSetFactory           : Dataset[higgs-dataset] : Background -- training and testing events: 5170877 (sum of weights: 5.17088e+06)\n",
      "--- DataSetFactory           : Dataset[higgs-dataset] : Create internal training tree\n",
      "--- DataSetFactory           : Dataset[higgs-dataset] : Create internal testing tree\n",
      "--- DataSetInfo              : Dataset[higgs-dataset] : Correlation matrix (Signal):\n",
      "--- DataSetInfo              : ---------------------------------------------------------------------------------------------------------------------------------------------------------------------------------------------------------------------------------------------------------------------------------------------------------------------------------\n",
      "--- DataSetInfo              :                           lepton_pT lepton_eta lepton_phi missing_energy_magnitude missing_energy_phi jet_1_pt jet_1_eta jet_1_phi jet_1_b_tag jet_2_pt jet_2_eta jet_2_phi jet_2_b_tag jet_3_pt jet_3_eta jet_3_phi jet_3_b_tag jet_4_pt jet_4_eta jet_4_phi jet_4_b_tag    m_jj   m_jjj    m_lv   m_jlv    m_bb   m_wbb  m_wwbb\n",
      "--- DataSetInfo              :                lepton_pT:    +1.000     -0.000     +0.001                   -0.156             +0.000   +0.078    +0.000    -0.001      +0.037   -0.064    -0.000    +0.001      +0.008   -0.072    +0.000    +0.000      -0.007   -0.069    +0.001    -0.001      -0.028  +0.012  -0.004  +0.272  +0.081  -0.039  +0.024  +0.048\n",
      "--- DataSetInfo              :               lepton_eta:    -0.000     +1.000     -0.000                   -0.001             +0.001   -0.001    +0.298    +0.000      -0.000   -0.001    +0.308    +0.002      -0.000   +0.001    +0.277    +0.001      +0.001   -0.000    +0.228    +0.001      -0.000  -0.000  -0.001  +0.000  +0.001  -0.001  -0.000  -0.000\n",
      "--- DataSetInfo              :               lepton_phi:    +0.001     -0.000     +1.000                   -0.000             -0.062   -0.001    +0.000    -0.169      +0.001   -0.001    -0.001    -0.079      +0.001   -0.001    -0.001    -0.067      -0.001   +0.000    +0.001    -0.052      +0.000  -0.000  -0.000  -0.000  -0.000  -0.001  +0.000  +0.000\n",
      "--- DataSetInfo              : missing_energy_magnitude:    -0.156     -0.001     -0.000                   +1.000             -0.000   +0.139    -0.001    -0.000      -0.004   +0.005    +0.000    +0.001      +0.007   -0.007    -0.001    -0.000      -0.003   -0.014    +0.001    -0.000      -0.012  +0.023  +0.018  +0.244  +0.249  -0.011  +0.160  +0.223\n",
      "--- DataSetInfo              :       missing_energy_phi:    +0.000     +0.001     -0.062                   -0.000             +1.000   -0.001    -0.000    -0.146      +0.000   -0.000    -0.001    -0.043      -0.001   +0.000    -0.001    -0.034      +0.001   -0.000    -0.000    -0.021      +0.001  -0.001  -0.001  +0.001  -0.002  +0.000  -0.001  -0.002\n",
      "--- DataSetInfo              :                 jet_1_pt:    +0.078     -0.001     -0.001                   +0.139             -0.001   +1.000    +0.001    +0.001      -0.090   +0.484    -0.000    +0.000      -0.042   +0.279    +0.000    -0.000      +0.001   +0.185    +0.000    -0.001      +0.023  +0.201  +0.269  +0.005  +0.204  +0.227  +0.395  +0.381\n",
      "--- DataSetInfo              :                jet_1_eta:    +0.000     +0.298     +0.000                   -0.001             -0.000   +0.001    +1.000    +0.000      +0.000   -0.001    +0.235    +0.003      -0.000   +0.001    +0.219    +0.001      +0.000   -0.000    +0.179    +0.001      -0.001  +0.001  +0.001  +0.001  +0.000  +0.001  +0.001  +0.001\n",
      "--- DataSetInfo              :                jet_1_phi:    -0.001     +0.000     -0.169                   -0.000             -0.146   +0.001    +0.000    +1.000      +0.001   +0.000    +0.001    -0.219      +0.000   -0.000    -0.000    -0.149      -0.002   +0.000    +0.001    -0.114      +0.000  +0.000  +0.001  -0.001  -0.001  +0.000  +0.000  +0.000\n",
      "--- DataSetInfo              :              jet_1_b_tag:    +0.037     -0.000     +0.001                   -0.004             +0.000   -0.090    +0.000    +0.001      +1.000   -0.232    +0.000    -0.002      -0.297   -0.210    +0.001    +0.000      -0.242   -0.190    +0.000    -0.001      -0.200  -0.130  -0.101  -0.004  +0.126  +0.224  +0.052  -0.023\n",
      "--- DataSetInfo              :                 jet_2_pt:    -0.064     -0.001     -0.001                   +0.005             -0.000   +0.484    -0.001    +0.000      -0.232   +1.000    -0.001    -0.000      +0.133   +0.298    +0.000    +0.000      -0.011   +0.203    +0.000    -0.001      +0.008  +0.199  +0.266  -0.013  +0.183  +0.250  +0.365  +0.340\n",
      "--- DataSetInfo              :                jet_2_eta:    -0.000     +0.308     -0.001                   +0.000             -0.001   -0.000    +0.235    +0.001      +0.000   -0.001    +1.000    -0.000      +0.001   +0.000    +0.221    +0.001      -0.000   -0.001    +0.176    +0.001      +0.001  -0.000  -0.001  -0.000  +0.001  +0.000  -0.000  -0.000\n",
      "--- DataSetInfo              :                jet_2_phi:    +0.001     +0.002     -0.079                   +0.001             -0.043   +0.000    +0.003    -0.219      -0.002   -0.000    -0.000    +1.000      +0.001   +0.001    +0.002    -0.088      +0.001   +0.000    +0.001    -0.074      +0.000  +0.000  +0.000  +0.000  +0.001  +0.000  +0.001  +0.001\n",
      "--- DataSetInfo              :              jet_2_b_tag:    +0.008     -0.000     +0.001                   +0.007             -0.001   -0.042    -0.000    +0.000      -0.297   +0.133    +0.001    +0.001      +1.000   -0.069    -0.000    +0.000      -0.212   -0.080    +0.000    +0.000      -0.233  -0.007  +0.041  +0.005  +0.057  +0.133  +0.071  +0.052\n",
      "--- DataSetInfo              :                 jet_3_pt:    -0.072     +0.001     -0.001                   -0.007             +0.000   +0.279    +0.001    -0.000      -0.210   +0.298    +0.000    +0.001      -0.069   +1.000    +0.001    +0.000      +0.182   +0.312    +0.000    -0.000      -0.012  +0.157  +0.248  -0.016  +0.117  +0.204  +0.255  +0.249\n",
      "--- DataSetInfo              :                jet_3_eta:    +0.000     +0.277     -0.001                   -0.001             -0.001   +0.000    +0.219    -0.000      +0.001   +0.000    +0.221    +0.002      -0.000   +0.001    +1.000    +0.000      +0.000   -0.001    +0.147    -0.000      -0.001  +0.000  +0.000  -0.000  +0.000  +0.001  +0.001  +0.001\n",
      "--- DataSetInfo              :                jet_3_phi:    +0.000     +0.001     -0.067                   -0.000             -0.034   -0.000    +0.001    -0.149      +0.000   +0.000    +0.001    -0.088      +0.000   +0.000    +0.000    +1.000      +0.001   -0.001    +0.001    -0.067      -0.002  +0.000  +0.000  -0.000  -0.000  +0.001  +0.001  +0.001\n",
      "--- DataSetInfo              :              jet_3_b_tag:    -0.007     +0.001     -0.001                   -0.003             +0.001   +0.001    +0.000    -0.002      -0.242   -0.011    -0.000    +0.001      -0.212   +0.182    +0.000    +0.001      +1.000   -0.045    -0.001    -0.001      -0.272  +0.069  +0.093  +0.004  -0.010  -0.021  +0.029  +0.042\n",
      "--- DataSetInfo              :                 jet_4_pt:    -0.069     -0.000     +0.000                   -0.014             -0.000   +0.185    -0.000    +0.000      -0.190   +0.203    -0.001    +0.000      -0.080   +0.312    -0.001    -0.001      -0.045   +1.000    -0.001    -0.000      +0.185  +0.101  +0.177  -0.017  +0.054  +0.129  +0.146  +0.151\n",
      "--- DataSetInfo              :                jet_4_eta:    +0.001     +0.228     +0.001                   +0.001             -0.000   +0.000    +0.179    +0.001      +0.000   +0.000    +0.176    +0.001      +0.000   +0.000    +0.147    +0.001      -0.001   -0.001    +1.000    +0.000      +0.000  -0.001  -0.000  +0.001  +0.001  -0.000  +0.001  +0.001\n",
      "--- DataSetInfo              :                jet_4_phi:    -0.001     +0.001     -0.052                   -0.000             -0.021   -0.001    +0.001    -0.114      -0.001   -0.001    +0.001    -0.074      +0.000   -0.000    -0.000    -0.067      -0.001   -0.000    +0.000    +1.000      +0.001  -0.000  -0.000  -0.000  +0.001  -0.001  -0.000  -0.000\n",
      "--- DataSetInfo              :              jet_4_b_tag:    -0.028     -0.000     +0.000                   -0.012             +0.001   +0.023    -0.001    +0.000      -0.200   +0.008    +0.001    +0.000      -0.233   -0.012    -0.001    -0.002      -0.272   +0.185    +0.000    +0.001      +1.000  +0.128  +0.060  -0.000  -0.067  -0.162  -0.022  +0.013\n",
      "--- DataSetInfo              :                     m_jj:    +0.012     -0.000     -0.000                   +0.023             -0.001   +0.201    +0.001    +0.000      -0.130   +0.199    -0.000    +0.000      -0.007   +0.157    +0.000    +0.000      +0.069   +0.101    -0.001    -0.000      +0.128  +1.000  +0.788  +0.011  +0.093  +0.022  +0.533  +0.537\n",
      "--- DataSetInfo              :                    m_jjj:    -0.004     -0.001     -0.000                   +0.018             -0.001   +0.269    +0.001    +0.001      -0.101   +0.266    -0.001    +0.000      +0.041   +0.248    +0.000    +0.000      +0.093   +0.177    -0.000    -0.000      +0.060  +0.788  +1.000  +0.008  +0.077  +0.149  +0.692  +0.671\n",
      "--- DataSetInfo              :                     m_lv:    +0.272     +0.000     -0.000                   +0.244             +0.001   +0.005    +0.001    -0.001      -0.004   -0.013    -0.000    +0.000      +0.005   -0.016    -0.000    -0.000      +0.004   -0.017    +0.001    -0.000      -0.000  +0.011  +0.008  +1.000  +0.118  -0.026  +0.019  +0.037\n",
      "--- DataSetInfo              :                    m_jlv:    +0.081     +0.001     -0.000                   +0.249             -0.002   +0.204    +0.000    -0.001      +0.126   +0.183    +0.001    +0.001      +0.057   +0.117    +0.000    -0.000      -0.010   +0.054    +0.001    +0.001      -0.067  +0.093  +0.077  +0.118  +1.000  +0.314  +0.538  +0.547\n",
      "--- DataSetInfo              :                     m_bb:    -0.039     -0.001     -0.001                   -0.011             +0.000   +0.227    +0.001    +0.000      +0.224   +0.250    +0.000    +0.000      +0.133   +0.204    +0.001    +0.001      -0.021   +0.129    -0.000    -0.001      -0.162  +0.022  +0.149  -0.026  +0.314  +1.000  +0.450  +0.331\n",
      "--- DataSetInfo              :                    m_wbb:    +0.024     -0.000     +0.000                   +0.160             -0.001   +0.395    +0.001    +0.000      +0.052   +0.365    -0.000    +0.001      +0.071   +0.255    +0.001    +0.001      +0.029   +0.146    +0.001    -0.000      -0.022  +0.533  +0.692  +0.019  +0.538  +0.450  +1.000  +0.907\n",
      "--- DataSetInfo              :                   m_wwbb:    +0.048     -0.000     +0.000                   +0.223             -0.002   +0.381    +0.001    +0.000      -0.023   +0.340    -0.000    +0.001      +0.052   +0.249    +0.001    +0.001      +0.042   +0.151    +0.001    -0.000      +0.013  +0.537  +0.671  +0.037  +0.547  +0.331  +0.907  +1.000\n",
      "--- DataSetInfo              : ---------------------------------------------------------------------------------------------------------------------------------------------------------------------------------------------------------------------------------------------------------------------------------------------------------------------------------\n",
      "--- DataSetInfo              : Dataset[higgs-dataset] : Correlation matrix (Background):\n",
      "--- DataSetInfo              : ---------------------------------------------------------------------------------------------------------------------------------------------------------------------------------------------------------------------------------------------------------------------------------------------------------------------------------\n",
      "--- DataSetInfo              :                           lepton_pT lepton_eta lepton_phi missing_energy_magnitude missing_energy_phi jet_1_pt jet_1_eta jet_1_phi jet_1_b_tag jet_2_pt jet_2_eta jet_2_phi jet_2_b_tag jet_3_pt jet_3_eta jet_3_phi jet_3_b_tag jet_4_pt jet_4_eta jet_4_phi jet_4_b_tag    m_jj   m_jjj    m_lv   m_jlv    m_bb   m_wbb  m_wwbb\n",
      "--- DataSetInfo              :                lepton_pT:    +1.000     -0.001     -0.001                   -0.136             +0.000   +0.258    -0.000    -0.001      -0.048   +0.069    -0.000    +0.001      -0.022   +0.046    +0.002    +0.002      +0.015   +0.033    -0.001    +0.002      +0.027  +0.040  +0.043  +0.278  +0.169  +0.021  +0.146  +0.205\n",
      "--- DataSetInfo              :               lepton_eta:    -0.001     +1.000     -0.001                   -0.001             +0.001   -0.000    +0.229    -0.001      +0.002   +0.001    +0.218    +0.001      -0.002   +0.000    +0.173    -0.000      -0.001   -0.000    +0.124    +0.001      -0.000  -0.000  -0.001  -0.001  +0.000  +0.000  -0.000  -0.000\n",
      "--- DataSetInfo              :               lepton_phi:    -0.001     -0.001     +1.000                   -0.000             -0.025   +0.001    +0.000    -0.166      -0.001   -0.000    +0.000    -0.110      -0.001   +0.000    +0.001    -0.102      +0.001   +0.000    +0.002    -0.079      +0.000  -0.000  -0.001  -0.002  -0.000  -0.000  -0.000  +0.000\n",
      "--- DataSetInfo              : missing_energy_magnitude:    -0.136     -0.001     -0.000                   +1.000             -0.001   +0.272    +0.001    -0.001      -0.055   +0.075    +0.000    +0.000      -0.026   +0.046    -0.001    -0.001      +0.017   +0.028    +0.000    -0.000      +0.032  +0.047  +0.051  +0.116  +0.300  +0.021  +0.244  +0.338\n",
      "--- DataSetInfo              :       missing_energy_phi:    +0.000     +0.001     -0.025                   -0.001             +1.000   +0.001    -0.001    -0.164      +0.002   +0.000    +0.001    -0.090      +0.000   -0.000    -0.001    -0.074      -0.001   -0.001    +0.000    -0.056      -0.002  -0.000  -0.000  +0.001  +0.001  +0.001  +0.001  +0.000\n",
      "--- DataSetInfo              :                 jet_1_pt:    +0.258     -0.000     +0.001                   +0.272             +0.001   +1.000    +0.001    -0.001      +0.073   +0.488    +0.001    -0.000      -0.016   +0.253    -0.001    +0.001      -0.053   +0.135    +0.000    -0.000      -0.041  +0.170  +0.249  +0.034  +0.356  +0.453  +0.581  +0.545\n",
      "--- DataSetInfo              :                jet_1_eta:    -0.000     +0.229     +0.000                   +0.001             -0.001   +0.001    +1.000    +0.000      +0.001   -0.000    +0.260    +0.001      -0.002   +0.001    +0.244    +0.000      +0.001   +0.001    +0.205    +0.001      +0.002  +0.001  +0.001  +0.000  +0.002  +0.001  +0.001  +0.001\n",
      "--- DataSetInfo              :                jet_1_phi:    -0.001     -0.001     -0.166                   -0.001             -0.164   -0.001    +0.000    +1.000      -0.000   +0.000    -0.001    -0.175      +0.001   +0.000    +0.001    -0.116      +0.000   +0.001    -0.001    -0.090      +0.000  +0.001  +0.000  +0.000  -0.002  -0.001  -0.001  -0.001\n",
      "--- DataSetInfo              :              jet_1_b_tag:    -0.048     +0.002     -0.001                   -0.055             +0.002   +0.073    +0.001    -0.000      +1.000   -0.024    +0.001    -0.000      -0.217   -0.076    +0.000    -0.000      -0.274   -0.097    +0.001    +0.001      -0.274  -0.098  -0.032  +0.005  +0.140  +0.319  +0.168  +0.027\n",
      "--- DataSetInfo              :                 jet_2_pt:    +0.069     +0.001     -0.000                   +0.075             +0.000   +0.488    -0.000    +0.000      -0.024   +1.000    +0.001    -0.001      +0.149   +0.292    -0.001    +0.001      -0.083   +0.162    +0.000    -0.001      -0.070  +0.163  +0.256  +0.017  +0.226  +0.490  +0.505  +0.438\n",
      "--- DataSetInfo              :                jet_2_eta:    -0.000     +0.218     +0.000                   +0.000             +0.001   +0.001    +0.260    -0.001      +0.001   +0.001    +1.000    -0.000      +0.000   +0.001    +0.209    +0.001      +0.001   +0.000    +0.173    +0.001      -0.000  +0.001  -0.000  -0.001  +0.000  -0.000  -0.001  -0.001\n",
      "--- DataSetInfo              :                jet_2_phi:    +0.001     +0.001     -0.110                   +0.000             -0.090   -0.000    +0.001    -0.175      -0.000   -0.001    -0.000    +1.000      +0.001   -0.001    -0.001    -0.091      -0.001   -0.000    +0.001    -0.069      +0.001  -0.000  -0.000  +0.001  +0.000  -0.000  -0.000  -0.001\n",
      "--- DataSetInfo              :              jet_2_b_tag:    -0.022     -0.002     -0.001                   -0.026             +0.000   -0.016    -0.002    +0.001      -0.217   +0.149    +0.000    +0.001      +1.000   -0.106    -0.002    -0.001      -0.283   -0.115    -0.001    +0.001      -0.267  -0.035  +0.003  +0.002  +0.025  +0.157  +0.050  +0.013\n",
      "--- DataSetInfo              :                 jet_3_pt:    +0.046     +0.000     +0.000                   +0.046             -0.000   +0.253    +0.001    +0.000      -0.076   +0.292    +0.001    -0.001      -0.106   +1.000    +0.002    -0.000      +0.197   +0.266    +0.001    -0.002      -0.061  +0.154  +0.239  +0.014  +0.136  +0.321  +0.334  +0.316\n",
      "--- DataSetInfo              :                jet_3_eta:    +0.002     +0.173     +0.001                   -0.001             -0.001   -0.001    +0.244    +0.001      +0.000   -0.001    +0.209    -0.001      -0.002   +0.002    +1.000    -0.000      +0.001   +0.000    +0.152    +0.001      -0.001  -0.001  -0.002  +0.001  +0.000  -0.001  -0.001  -0.001\n",
      "--- DataSetInfo              :                jet_3_phi:    +0.002     -0.000     -0.102                   -0.001             -0.074   +0.001    +0.000    -0.116      -0.000   +0.001    +0.001    -0.091      -0.001   -0.000    -0.000    +1.000      +0.001   -0.001    -0.000    -0.061      -0.000  -0.001  -0.001  -0.001  -0.001  +0.001  +0.000  +0.000\n",
      "--- DataSetInfo              :              jet_3_b_tag:    +0.015     -0.001     +0.001                   +0.017             -0.001   -0.053    +0.001    +0.000      -0.274   -0.083    +0.001    -0.001      -0.283   +0.197    +0.001    +0.001      +1.000   -0.074    -0.000    -0.001      -0.232  +0.059  +0.044  -0.001  -0.039  -0.083  -0.044  +0.003\n",
      "--- DataSetInfo              :                 jet_4_pt:    +0.033     -0.000     +0.000                   +0.028             -0.001   +0.135    +0.001    +0.001      -0.097   +0.162    +0.000    -0.000      -0.115   +0.266    +0.000    -0.001      -0.074   +1.000    +0.001    +0.001      +0.209  +0.114  +0.172  +0.009  +0.075  +0.163  +0.191  +0.202\n",
      "--- DataSetInfo              :                jet_4_eta:    -0.001     +0.124     +0.002                   +0.000             +0.000   +0.000    +0.205    -0.001      +0.001   +0.000    +0.173    +0.001      -0.001   +0.001    +0.152    -0.000      -0.000   +0.001    +1.000    -0.000      +0.000  -0.000  -0.000  -0.001  +0.000  +0.001  -0.000  -0.001\n",
      "--- DataSetInfo              :                jet_4_phi:    +0.002     +0.001     -0.079                   -0.000             -0.056   -0.000    +0.001    -0.090      +0.001   -0.001    +0.001    -0.069      +0.001   -0.002    +0.001    -0.061      -0.001   +0.001    -0.000    +1.000      +0.000  +0.001  +0.000  +0.001  +0.001  -0.001  +0.000  -0.000\n",
      "--- DataSetInfo              :              jet_4_b_tag:    +0.027     -0.000     +0.000                   +0.032             -0.002   -0.041    +0.002    +0.000      -0.274   -0.070    -0.000    +0.001      -0.267   -0.061    -0.001    -0.000      -0.232   +0.209    +0.000    +0.000      +1.000  +0.110  +0.039  -0.008  -0.079  -0.244  -0.095  -0.009\n",
      "--- DataSetInfo              :                     m_jj:    +0.040     -0.000     -0.000                   +0.047             -0.000   +0.170    +0.001    +0.001      -0.098   +0.163    +0.001    -0.000      -0.035   +0.154    -0.001    -0.001      +0.059   +0.114    -0.000    +0.001      +0.110  +1.000  +0.805  +0.012  +0.117  +0.010  +0.392  +0.402\n",
      "--- DataSetInfo              :                    m_jjj:    +0.043     -0.001     -0.001                   +0.051             -0.000   +0.249    +0.001    +0.000      -0.032   +0.256    -0.000    -0.000      +0.003   +0.239    -0.002    -0.001      +0.044   +0.172    -0.000    +0.000      +0.039  +0.805  +1.000  +0.013  +0.162  +0.161  +0.549  +0.531\n",
      "--- DataSetInfo              :                     m_lv:    +0.278     -0.001     -0.002                   +0.116             +0.001   +0.034    +0.000    +0.000      +0.005   +0.017    -0.001    +0.001      +0.002   +0.014    +0.001    -0.001      -0.001   +0.009    -0.001    +0.001      -0.008  +0.012  +0.013  +1.000  +0.128  +0.020  +0.053  +0.059\n",
      "--- DataSetInfo              :                    m_jlv:    +0.169     +0.000     -0.000                   +0.300             +0.001   +0.356    +0.002    -0.002      +0.140   +0.226    +0.000    +0.000      +0.025   +0.136    +0.000    -0.001      -0.039   +0.075    +0.000    +0.001      -0.079  +0.117  +0.162  +0.128  +1.000  +0.277  +0.588  +0.547\n",
      "--- DataSetInfo              :                     m_bb:    +0.021     +0.000     -0.000                   +0.021             +0.001   +0.453    +0.001    -0.001      +0.319   +0.490    -0.000    -0.000      +0.157   +0.321    -0.001    +0.001      -0.083   +0.163    +0.001    -0.001      -0.244  +0.010  +0.161  +0.020  +0.277  +1.000  +0.622  +0.449\n",
      "--- DataSetInfo              :                    m_wbb:    +0.146     -0.000     -0.000                   +0.244             +0.001   +0.581    +0.001    -0.001      +0.168   +0.505    -0.001    -0.000      +0.050   +0.334    -0.001    +0.000      -0.044   +0.191    -0.000    +0.000      -0.095  +0.392  +0.549  +0.053  +0.588  +0.622  +1.000  +0.886\n",
      "--- DataSetInfo              :                   m_wwbb:    +0.205     -0.000     +0.000                   +0.338             +0.000   +0.545    +0.001    -0.001      +0.027   +0.438    -0.001    -0.001      +0.013   +0.316    -0.001    +0.000      +0.003   +0.202    -0.001    -0.000      -0.009  +0.402  +0.531  +0.059  +0.547  +0.449  +0.886  +1.000\n",
      "--- DataSetInfo              : ---------------------------------------------------------------------------------------------------------------------------------------------------------------------------------------------------------------------------------------------------------------------------------------------------------------------------------\n",
      "--- DataSetFactory           : Dataset[higgs-dataset] :  \n",
      "--- DNN                      : Dataset[higgs-dataset] : Begin training\n"
     ]
    },
    {
     "name": "stderr",
     "output_type": "stream",
     "text": [
      "\n",
      " *** Break *** segmentation violation\n"
     ]
    },
    {
     "name": "stdout",
     "output_type": "stream",
     "text": [
      "[<unknown binary>]\n",
      "[<unknown binary>]\n",
      "[/Users/testuser/root-build/lib/libTMVA.so] TMVA::MethodBase::TrainMethod() /Users/testuser/root-build/include/TMVA/Configurable.h:130\n",
      "[/Users/testuser/root-build/lib/libTMVA.so] TMVA::DataLoader::VarTransform(TString) /Users/testuser/root-build/include/TMVA/Configurable.h:130\n",
      "[<unknown binary>]\n",
      "[<unknown binary>]\n",
      "[<unknown binary>]\n",
      "[<unknown binary>]\n",
      "[<unknown binary>]\n",
      "[<unknown binary>]\n",
      "[<unknown binary>]\n",
      "[<unknown binary>]\n",
      "[<unknown binary>]\n",
      "[/Users/testuser/root-build/lib/libCling.so] HandleInterpreterException(cling::MetaProcessor*, char const*, cling::Interpreter::CompilationResult&, cling::Value*) /Users/testuser/root/core/meta/src/TCling.cxx:1885\n",
      "[/Users/testuser/root-build/lib/libCling.so] TCling::ProcessLine(char const*, TInterpreter::EErrorCode*) /Users/testuser/root/core/meta/src/TCling.cxx:2047\n",
      "[/Users/testuser/root-build/lib/libJupyROOT.so] JupyROOTExecutorImpl(char const*) /Users/testuser/root/bindings/pyroot/JupyROOT/src/IOHandler.cxx:120\n",
      "[/Users/testuser/root-build/lib/libJupyROOT.so] JupyROOTExecutor /Users/testuser/root/bindings/pyroot/JupyROOT/src/IOHandler.cxx:152\n",
      "[<unknown binary>]\n",
      "[<unknown binary>]\n"
     ]
    }
   ],
   "source": [
    "TMVA::DataLoader* newloader = loader2->VarTransform(nnOptions);"
   ]
  },
  {
   "cell_type": "code",
   "execution_count": null,
   "metadata": {
    "collapsed": true
   },
   "outputs": [],
   "source": []
  }
 ],
 "metadata": {
  "kernelspec": {
   "display_name": "ROOT C++",
   "language": "c++",
   "name": "root"
  },
  "language_info": {
   "codemirror_mode": "text/x-c++src",
   "file_extension": ".C",
   "mimetype": " text/x-c++src",
   "name": "c++"
  }
 },
 "nbformat": 4,
 "nbformat_minor": 0
}
